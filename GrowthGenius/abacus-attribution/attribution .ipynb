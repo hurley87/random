{
 "cells": [
  {
   "cell_type": "code",
   "execution_count": 1,
   "metadata": {},
   "outputs": [],
   "source": [
    "import pandas as pd\n",
    "from pipedrive import Pipedrive\n",
    "import json\n",
    "try:\n",
    "    from urllib import urlencode\n",
    "except ImportError:\n",
    "    from urllib.parse import urlencode\n",
    "\n",
    "# pipedrive = Pipedrive('06395da8df833c411f231a703d5df4ca28809d87')\n",
    "pipedrive = Pipedrive(\"51c436623dcf240bfc2b59e08100db09f7af9310\")"
   ]
  },
  {
   "cell_type": "code",
   "execution_count": 2,
   "metadata": {},
   "outputs": [
    {
     "name": "stdout",
     "output_type": "stream",
     "text": [
      "0\n",
      "1\n",
      "500\n",
      "2\n"
     ]
    }
   ],
   "source": [
    "# pull all deals in abacus \n",
    "more_deals = True\n",
    "deal_lists = []\n",
    "new_start = 0\n",
    "\n",
    "while more_deals:\n",
    "    print(new_start)\n",
    "    pipedrive_deals = pipedrive.deals({'status':'all_not_deleted', 'limit': 500, 'start': new_start}, method='GET')\n",
    "    new_deals = pipedrive_deals['data']\n",
    "    deal_dataframe = pd.DataFrame(new_deals)\n",
    "    deal_lists.append(deal_dataframe)\n",
    "    print(len(deal_lists))\n",
    "    more_deals = pipedrive_deals['additional_data']['pagination']['more_items_in_collection']\n",
    "    new_start += 500\n",
    "\n",
    "df = pd.concat(deal_lists)"
   ]
  },
  {
   "cell_type": "code",
   "execution_count": 3,
   "metadata": {},
   "outputs": [],
   "source": [
    "stages_df = pd.DataFrame(pipedrive.stages({'limit': 500}, method='GET')['data'])"
   ]
  },
  {
   "cell_type": "code",
   "execution_count": 4,
   "metadata": {},
   "outputs": [
    {
     "data": {
      "text/html": [
       "<div>\n",
       "<style scoped>\n",
       "    .dataframe tbody tr th:only-of-type {\n",
       "        vertical-align: middle;\n",
       "    }\n",
       "\n",
       "    .dataframe tbody tr th {\n",
       "        vertical-align: top;\n",
       "    }\n",
       "\n",
       "    .dataframe thead th {\n",
       "        text-align: right;\n",
       "    }\n",
       "</style>\n",
       "<table border=\"1\" class=\"dataframe\">\n",
       "  <thead>\n",
       "    <tr style=\"text-align: right;\">\n",
       "      <th></th>\n",
       "      <th>active_flag</th>\n",
       "      <th>add_time</th>\n",
       "      <th>deal_probability</th>\n",
       "      <th>id</th>\n",
       "      <th>name</th>\n",
       "      <th>order_nr</th>\n",
       "      <th>pipeline_id</th>\n",
       "      <th>pipeline_name</th>\n",
       "      <th>rotten_days</th>\n",
       "      <th>rotten_flag</th>\n",
       "      <th>update_time</th>\n",
       "    </tr>\n",
       "  </thead>\n",
       "  <tbody>\n",
       "    <tr>\n",
       "      <th>0</th>\n",
       "      <td>True</td>\n",
       "      <td>2018-04-10 12:26:34</td>\n",
       "      <td>0</td>\n",
       "      <td>18</td>\n",
       "      <td>Hold</td>\n",
       "      <td>1</td>\n",
       "      <td>1</td>\n",
       "      <td>Pipeline</td>\n",
       "      <td>None</td>\n",
       "      <td>False</td>\n",
       "      <td>2018-05-17 21:15:59</td>\n",
       "    </tr>\n",
       "    <tr>\n",
       "      <th>1</th>\n",
       "      <td>True</td>\n",
       "      <td>2016-12-19 14:29:12</td>\n",
       "      <td>0</td>\n",
       "      <td>9</td>\n",
       "      <td>Qualified Leads to be Worked</td>\n",
       "      <td>2</td>\n",
       "      <td>1</td>\n",
       "      <td>Pipeline</td>\n",
       "      <td>None</td>\n",
       "      <td>False</td>\n",
       "      <td>2018-05-17 21:16:04</td>\n",
       "    </tr>\n",
       "    <tr>\n",
       "      <th>2</th>\n",
       "      <td>True</td>\n",
       "      <td>2017-12-28 19:25:37</td>\n",
       "      <td>0</td>\n",
       "      <td>10</td>\n",
       "      <td>Qualified Leads Being Worked</td>\n",
       "      <td>3</td>\n",
       "      <td>1</td>\n",
       "      <td>Pipeline</td>\n",
       "      <td>None</td>\n",
       "      <td>False</td>\n",
       "      <td>2018-05-17 21:16:09</td>\n",
       "    </tr>\n",
       "    <tr>\n",
       "      <th>3</th>\n",
       "      <td>True</td>\n",
       "      <td>2018-03-08 17:43:48</td>\n",
       "      <td>0</td>\n",
       "      <td>12</td>\n",
       "      <td>Adam Emails</td>\n",
       "      <td>4</td>\n",
       "      <td>1</td>\n",
       "      <td>Pipeline</td>\n",
       "      <td>None</td>\n",
       "      <td>False</td>\n",
       "      <td>2018-05-17 21:16:16</td>\n",
       "    </tr>\n",
       "    <tr>\n",
       "      <th>4</th>\n",
       "      <td>True</td>\n",
       "      <td>2016-11-04 11:26:50</td>\n",
       "      <td>10</td>\n",
       "      <td>2</td>\n",
       "      <td>Contact Made &amp; Interested</td>\n",
       "      <td>5</td>\n",
       "      <td>1</td>\n",
       "      <td>Pipeline</td>\n",
       "      <td>None</td>\n",
       "      <td>False</td>\n",
       "      <td>2018-06-14 11:42:45</td>\n",
       "    </tr>\n",
       "    <tr>\n",
       "      <th>5</th>\n",
       "      <td>True</td>\n",
       "      <td>2018-03-20 20:40:23</td>\n",
       "      <td>30</td>\n",
       "      <td>17</td>\n",
       "      <td>Demo Scheduled</td>\n",
       "      <td>6</td>\n",
       "      <td>1</td>\n",
       "      <td>Pipeline</td>\n",
       "      <td>None</td>\n",
       "      <td>False</td>\n",
       "      <td>2018-06-14 11:42:56</td>\n",
       "    </tr>\n",
       "    <tr>\n",
       "      <th>6</th>\n",
       "      <td>True</td>\n",
       "      <td>2016-11-04 11:26:50</td>\n",
       "      <td>40</td>\n",
       "      <td>3</td>\n",
       "      <td>Demo Completed</td>\n",
       "      <td>7</td>\n",
       "      <td>1</td>\n",
       "      <td>Pipeline</td>\n",
       "      <td>None</td>\n",
       "      <td>False</td>\n",
       "      <td>2018-06-14 11:43:11</td>\n",
       "    </tr>\n",
       "    <tr>\n",
       "      <th>7</th>\n",
       "      <td>True</td>\n",
       "      <td>2018-03-09 15:45:34</td>\n",
       "      <td>40</td>\n",
       "      <td>14</td>\n",
       "      <td>Multiple Demos</td>\n",
       "      <td>8</td>\n",
       "      <td>1</td>\n",
       "      <td>Pipeline</td>\n",
       "      <td>None</td>\n",
       "      <td>False</td>\n",
       "      <td>2018-05-17 21:11:35</td>\n",
       "    </tr>\n",
       "    <tr>\n",
       "      <th>8</th>\n",
       "      <td>True</td>\n",
       "      <td>2016-11-04 11:26:50</td>\n",
       "      <td>60</td>\n",
       "      <td>4</td>\n",
       "      <td>Proposal Made</td>\n",
       "      <td>9</td>\n",
       "      <td>1</td>\n",
       "      <td>Pipeline</td>\n",
       "      <td>None</td>\n",
       "      <td>False</td>\n",
       "      <td>2018-06-14 11:43:34</td>\n",
       "    </tr>\n",
       "    <tr>\n",
       "      <th>9</th>\n",
       "      <td>True</td>\n",
       "      <td>2016-11-04 11:26:50</td>\n",
       "      <td>75</td>\n",
       "      <td>5</td>\n",
       "      <td>Negotiations</td>\n",
       "      <td>10</td>\n",
       "      <td>1</td>\n",
       "      <td>Pipeline</td>\n",
       "      <td>None</td>\n",
       "      <td>False</td>\n",
       "      <td>2018-06-14 11:43:51</td>\n",
       "    </tr>\n",
       "    <tr>\n",
       "      <th>10</th>\n",
       "      <td>True</td>\n",
       "      <td>2018-03-12 21:25:19</td>\n",
       "      <td>100</td>\n",
       "      <td>15</td>\n",
       "      <td>Won</td>\n",
       "      <td>11</td>\n",
       "      <td>1</td>\n",
       "      <td>Pipeline</td>\n",
       "      <td>None</td>\n",
       "      <td>False</td>\n",
       "      <td>2018-05-17 21:10:54</td>\n",
       "    </tr>\n",
       "  </tbody>\n",
       "</table>\n",
       "</div>"
      ],
      "text/plain": [
       "    active_flag             add_time  deal_probability  id  \\\n",
       "0          True  2018-04-10 12:26:34                 0  18   \n",
       "1          True  2016-12-19 14:29:12                 0   9   \n",
       "2          True  2017-12-28 19:25:37                 0  10   \n",
       "3          True  2018-03-08 17:43:48                 0  12   \n",
       "4          True  2016-11-04 11:26:50                10   2   \n",
       "5          True  2018-03-20 20:40:23                30  17   \n",
       "6          True  2016-11-04 11:26:50                40   3   \n",
       "7          True  2018-03-09 15:45:34                40  14   \n",
       "8          True  2016-11-04 11:26:50                60   4   \n",
       "9          True  2016-11-04 11:26:50                75   5   \n",
       "10         True  2018-03-12 21:25:19               100  15   \n",
       "\n",
       "                            name  order_nr  pipeline_id pipeline_name  \\\n",
       "0                           Hold         1            1      Pipeline   \n",
       "1   Qualified Leads to be Worked         2            1      Pipeline   \n",
       "2   Qualified Leads Being Worked         3            1      Pipeline   \n",
       "3                    Adam Emails         4            1      Pipeline   \n",
       "4      Contact Made & Interested         5            1      Pipeline   \n",
       "5                 Demo Scheduled         6            1      Pipeline   \n",
       "6                 Demo Completed         7            1      Pipeline   \n",
       "7                 Multiple Demos         8            1      Pipeline   \n",
       "8                  Proposal Made         9            1      Pipeline   \n",
       "9                   Negotiations        10            1      Pipeline   \n",
       "10                           Won        11            1      Pipeline   \n",
       "\n",
       "   rotten_days  rotten_flag          update_time  \n",
       "0         None        False  2018-05-17 21:15:59  \n",
       "1         None        False  2018-05-17 21:16:04  \n",
       "2         None        False  2018-05-17 21:16:09  \n",
       "3         None        False  2018-05-17 21:16:16  \n",
       "4         None        False  2018-06-14 11:42:45  \n",
       "5         None        False  2018-06-14 11:42:56  \n",
       "6         None        False  2018-06-14 11:43:11  \n",
       "7         None        False  2018-05-17 21:11:35  \n",
       "8         None        False  2018-06-14 11:43:34  \n",
       "9         None        False  2018-06-14 11:43:51  \n",
       "10        None        False  2018-05-17 21:10:54  "
      ]
     },
     "execution_count": 4,
     "metadata": {},
     "output_type": "execute_result"
    }
   ],
   "source": [
    "stages_df"
   ]
  },
  {
   "cell_type": "code",
   "execution_count": 5,
   "metadata": {},
   "outputs": [
    {
     "name": "stdout",
     "output_type": "stream",
     "text": [
      "None\n",
      "None\n"
     ]
    }
   ],
   "source": [
    "# domains\n",
    "def extract_domain(person_id):\n",
    "    try:\n",
    "        email = person_id['email'][0]['value']\n",
    "        if \"@\" in email:\n",
    "            return email.split(\"@\")[1]\n",
    "    except:\n",
    "        print(person_id)\n",
    "\n",
    "df['domain'] = df.person_id.apply(extract_domain)"
   ]
  },
  {
   "cell_type": "code",
   "execution_count": 15,
   "metadata": {},
   "outputs": [
    {
     "data": {
      "text/html": [
       "<div>\n",
       "<style scoped>\n",
       "    .dataframe tbody tr th:only-of-type {\n",
       "        vertical-align: middle;\n",
       "    }\n",
       "\n",
       "    .dataframe tbody tr th {\n",
       "        vertical-align: top;\n",
       "    }\n",
       "\n",
       "    .dataframe thead th {\n",
       "        text-align: right;\n",
       "    }\n",
       "</style>\n",
       "<table border=\"1\" class=\"dataframe\">\n",
       "  <thead>\n",
       "    <tr style=\"text-align: right;\">\n",
       "      <th></th>\n",
       "      <th>a57908157b42cc601c33f0db7582f0dc87ef39c2</th>\n",
       "      <th>active</th>\n",
       "      <th>activities_count</th>\n",
       "      <th>add_time</th>\n",
       "      <th>cc_email</th>\n",
       "      <th>close_time</th>\n",
       "      <th>creator_user_id</th>\n",
       "      <th>currency</th>\n",
       "      <th>deleted</th>\n",
       "      <th>done_activities_count</th>\n",
       "      <th>...</th>\n",
       "      <th>title</th>\n",
       "      <th>undone_activities_count</th>\n",
       "      <th>update_time</th>\n",
       "      <th>user_id</th>\n",
       "      <th>value</th>\n",
       "      <th>visible_to</th>\n",
       "      <th>weighted_value</th>\n",
       "      <th>weighted_value_currency</th>\n",
       "      <th>won_time</th>\n",
       "      <th>domain</th>\n",
       "    </tr>\n",
       "  </thead>\n",
       "  <tbody>\n",
       "    <tr>\n",
       "      <th>394</th>\n",
       "      <td>3</td>\n",
       "      <td>True</td>\n",
       "      <td>0</td>\n",
       "      <td>2018-07-30 14:48:43</td>\n",
       "      <td>apploi+deal1564@pipedrivemail.com</td>\n",
       "      <td>None</td>\n",
       "      <td>{'id': 1874156, 'name': 'Adam Lewis', 'email':...</td>\n",
       "      <td>USD</td>\n",
       "      <td>False</td>\n",
       "      <td>0</td>\n",
       "      <td>...</td>\n",
       "      <td>Villa Healthcare deal</td>\n",
       "      <td>0</td>\n",
       "      <td>2018-10-05 16:25:42</td>\n",
       "      <td>{'id': 1874156, 'name': 'Adam Lewis', 'email':...</td>\n",
       "      <td>3000</td>\n",
       "      <td>3</td>\n",
       "      <td>3000</td>\n",
       "      <td>USD</td>\n",
       "      <td>None</td>\n",
       "      <td>villahc.com</td>\n",
       "    </tr>\n",
       "  </tbody>\n",
       "</table>\n",
       "<p>1 rows × 59 columns</p>\n",
       "</div>"
      ],
      "text/plain": [
       "    a57908157b42cc601c33f0db7582f0dc87ef39c2  active  activities_count  \\\n",
       "394                                        3    True                 0   \n",
       "\n",
       "                add_time                           cc_email close_time  \\\n",
       "394  2018-07-30 14:48:43  apploi+deal1564@pipedrivemail.com       None   \n",
       "\n",
       "                                       creator_user_id currency  deleted  \\\n",
       "394  {'id': 1874156, 'name': 'Adam Lewis', 'email':...      USD    False   \n",
       "\n",
       "     done_activities_count     ...                       title  \\\n",
       "394                      0     ...       Villa Healthcare deal   \n",
       "\n",
       "    undone_activities_count          update_time  \\\n",
       "394                       0  2018-10-05 16:25:42   \n",
       "\n",
       "                                               user_id  value visible_to  \\\n",
       "394  {'id': 1874156, 'name': 'Adam Lewis', 'email':...   3000          3   \n",
       "\n",
       "    weighted_value  weighted_value_currency won_time       domain  \n",
       "394           3000                      USD     None  villahc.com  \n",
       "\n",
       "[1 rows x 59 columns]"
      ]
     },
     "execution_count": 15,
     "metadata": {},
     "output_type": "execute_result"
    }
   ],
   "source": [
    "df[df.title == \"Villa Healthcare deal\"]"
   ]
  },
  {
   "cell_type": "code",
   "execution_count": 14,
   "metadata": {},
   "outputs": [
    {
     "name": "stdout",
     "output_type": "stream",
     "text": [
      "318\n"
     ]
    },
    {
     "data": {
      "text/plain": [
       "521"
      ]
     },
     "execution_count": 14,
     "metadata": {},
     "output_type": "execute_result"
    }
   ],
   "source": [
    "print(len(df[df.domain.isnull()]))\n",
    "len(df)"
   ]
  },
  {
   "cell_type": "code",
   "execution_count": 12,
   "metadata": {},
   "outputs": [
    {
     "data": {
      "text/plain": [
       "{'name': 'Afsheen Saatchi',\n",
       " 'email': [{'label': 'work',\n",
       "   'value': 'asaatchi@starbucks.com',\n",
       "   'primary': True}],\n",
       " 'phone': [{'label': 'work', 'value': '2063185572', 'primary': True}],\n",
       " 'value': 1}"
      ]
     },
     "execution_count": 12,
     "metadata": {},
     "output_type": "execute_result"
    }
   ],
   "source": [
    "df[df.title == 'Starbucks deal'].person_id[0]"
   ]
  },
  {
   "cell_type": "code",
   "execution_count": 119,
   "metadata": {},
   "outputs": [],
   "source": [
    "def extract_domain(Email):\n",
    "    return Email.split(\"www.\")[1]\n",
    "\n",
    "pr_df = pd.read_csv(\"Apploi-linkedin.csv\")\n",
    "pr_df['domain'] = pr_df[pr_df.Website.notnull()].Website.apply(extract_domain)\n",
    "pr_domains = pr_df.domain.tolist()\n",
    "\n",
    "# n_df = pd.read_csv('apollo-neutral.csv')\n",
    "# n_df['domain'] = n_df.Email.apply(extract_domain)\n",
    "# n_domains = n_df.domain.tolist()\n",
    "\n",
    "# ni_df = pd.read_csv(\"apollo-not-interested.csv\")\n",
    "# ni_df['domain'] = ni_df.Email.apply(extract_domain)\n",
    "# ni_domains = ni_df.domain.tolist()"
   ]
  },
  {
   "cell_type": "code",
   "execution_count": 120,
   "metadata": {},
   "outputs": [],
   "source": [
    "df = df[(df.domain.isin(pr_domains))]"
   ]
  },
  {
   "cell_type": "code",
   "execution_count": 121,
   "metadata": {},
   "outputs": [],
   "source": [
    "def get_stage_prop(stage_id):\n",
    "    return stages_df[stages_df.id == stage_id].iloc[0].deal_probability\n",
    "\n",
    "df['stage_prob'] = df.stage_id.apply(get_stage_prop)\n",
    "\n",
    "def get_stage_name(stage_id):\n",
    "    return stages_df[stages_df.id == stage_id].iloc[0].name\n",
    "\n",
    "df['stage_name'] = df.stage_id.apply(get_stage_name)"
   ]
  },
  {
   "cell_type": "code",
   "execution_count": 122,
   "metadata": {},
   "outputs": [
    {
     "data": {
      "text/plain": [
       "array(['a57908157b42cc601c33f0db7582f0dc87ef39c2', 'active',\n",
       "       'activities_count', 'add_time', 'cc_email', 'close_time',\n",
       "       'creator_user_id', 'currency', 'deleted', 'done_activities_count',\n",
       "       'email_messages_count', 'expected_close_date', 'files_count',\n",
       "       'first_won_time', 'followers_count', 'formatted_value',\n",
       "       'formatted_weighted_value', 'id', 'last_activity_date',\n",
       "       'last_activity_id', 'last_incoming_mail_time',\n",
       "       'last_outgoing_mail_time', 'lost_reason', 'lost_time',\n",
       "       'next_activity_date', 'next_activity_duration', 'next_activity_id',\n",
       "       'next_activity_note', 'next_activity_subject',\n",
       "       'next_activity_time', 'next_activity_type', 'notes_count',\n",
       "       'org_hidden', 'org_id', 'org_name', 'owner_name',\n",
       "       'participants_count', 'person_hidden', 'person_id', 'person_name',\n",
       "       'pipeline_id', 'probability', 'products_count',\n",
       "       'reference_activities_count', 'rotten_time', 'stage_change_time',\n",
       "       'stage_id', 'stage_order_nr', 'status', 'title',\n",
       "       'undone_activities_count', 'update_time', 'user_id', 'value',\n",
       "       'visible_to', 'weighted_value', 'weighted_value_currency',\n",
       "       'won_time', 'domain', 'stage_prob', 'stage_name'], dtype=object)"
      ]
     },
     "execution_count": 122,
     "metadata": {},
     "output_type": "execute_result"
    }
   ],
   "source": [
    "df.columns.values"
   ]
  },
  {
   "cell_type": "code",
   "execution_count": 123,
   "metadata": {},
   "outputs": [],
   "source": [
    "# for index, deal in df.iterrows():\n",
    "#     deals.insert({\n",
    "#         'title': deal['title'],\n",
    "#         'value': deal['value'],\n",
    "#         'channel_id': \"zb5TcJ9GjLzrWhSY3p\",\n",
    "#         'stage_name': deal['stage_name'],\n",
    "#         'stage_prob': deal['stage_prob'] / 100,\n",
    "#         'expected_value': deal['value'] * deal['stage_prob'] / 100,\n",
    "#         \"activities_count\": deal['activities_count'],\n",
    "#         \"add_time\": deal['add_time']\n",
    "#     })"
   ]
  },
  {
   "cell_type": "code",
   "execution_count": null,
   "metadata": {},
   "outputs": [],
   "source": []
  },
  {
   "cell_type": "code",
   "execution_count": 124,
   "metadata": {},
   "outputs": [
    {
     "data": {
      "text/plain": [
       "open    2\n",
       "Name: status, dtype: int64"
      ]
     },
     "execution_count": 124,
     "metadata": {},
     "output_type": "execute_result"
    }
   ],
   "source": [
    "# deal break down\n",
    "df.status.value_counts()"
   ]
  },
  {
   "cell_type": "code",
   "execution_count": 125,
   "metadata": {},
   "outputs": [],
   "source": [
    "# # exclude all agency partner deals - should we still get credit for lost deals? (I personally dont think we should)\n",
    "# df = df[~(df.status == 'lost')]\n",
    "# len(df)"
   ]
  },
  {
   "cell_type": "code",
   "execution_count": 126,
   "metadata": {},
   "outputs": [
    {
     "data": {
      "text/plain": [
       "297    Brandywine Living deal\n",
       "419    Amada Senior Care deal\n",
       "Name: title, dtype: object"
      ]
     },
     "execution_count": 126,
     "metadata": {},
     "output_type": "execute_result"
    }
   ],
   "source": [
    "df.title"
   ]
  },
  {
   "cell_type": "code",
   "execution_count": 113,
   "metadata": {},
   "outputs": [
    {
     "data": {
      "text/plain": [
       "Series([], Name: value, dtype: int64)"
      ]
     },
     "execution_count": 113,
     "metadata": {},
     "output_type": "execute_result"
    }
   ],
   "source": [
    "# break down of deal value\n",
    "df.value.value_counts()"
   ]
  },
  {
   "cell_type": "code",
   "execution_count": 108,
   "metadata": {},
   "outputs": [
    {
     "data": {
      "text/plain": [
       "0"
      ]
     },
     "execution_count": 108,
     "metadata": {},
     "output_type": "execute_result"
    }
   ],
   "source": [
    "# deals with value\n",
    "df = df[~(df.value == 0)]\n",
    "len(df)"
   ]
  },
  {
   "cell_type": "code",
   "execution_count": 109,
   "metadata": {},
   "outputs": [
    {
     "data": {
      "text/plain": [
       "array(['a57908157b42cc601c33f0db7582f0dc87ef39c2', 'active',\n",
       "       'activities_count', 'add_time', 'cc_email', 'close_time',\n",
       "       'creator_user_id', 'currency', 'deleted', 'done_activities_count',\n",
       "       'email_messages_count', 'expected_close_date', 'files_count',\n",
       "       'first_won_time', 'followers_count', 'formatted_value',\n",
       "       'formatted_weighted_value', 'id', 'last_activity_date',\n",
       "       'last_activity_id', 'last_incoming_mail_time',\n",
       "       'last_outgoing_mail_time', 'lost_reason', 'lost_time',\n",
       "       'next_activity_date', 'next_activity_duration', 'next_activity_id',\n",
       "       'next_activity_note', 'next_activity_subject',\n",
       "       'next_activity_time', 'next_activity_type', 'notes_count',\n",
       "       'org_hidden', 'org_id', 'org_name', 'owner_name',\n",
       "       'participants_count', 'person_hidden', 'person_id', 'person_name',\n",
       "       'pipeline_id', 'probability', 'products_count',\n",
       "       'reference_activities_count', 'rotten_time', 'stage_change_time',\n",
       "       'stage_id', 'stage_order_nr', 'status', 'title',\n",
       "       'undone_activities_count', 'update_time', 'user_id', 'value',\n",
       "       'visible_to', 'weighted_value', 'weighted_value_currency',\n",
       "       'won_time', 'domain', 'stage_prob', 'stage_name'], dtype=object)"
      ]
     },
     "execution_count": 109,
     "metadata": {},
     "output_type": "execute_result"
    }
   ],
   "source": [
    "df.columns.values"
   ]
  },
  {
   "cell_type": "code",
   "execution_count": 110,
   "metadata": {},
   "outputs": [
    {
     "data": {
      "text/plain": [
       "count    0.0\n",
       "mean     NaN\n",
       "std      NaN\n",
       "min      NaN\n",
       "25%      NaN\n",
       "50%      NaN\n",
       "75%      NaN\n",
       "max      NaN\n",
       "Name: value, dtype: float64"
      ]
     },
     "execution_count": 110,
     "metadata": {},
     "output_type": "execute_result"
    }
   ],
   "source": [
    "# deal statistics\n",
    "df.value.describe()"
   ]
  },
  {
   "cell_type": "code",
   "execution_count": 111,
   "metadata": {},
   "outputs": [
    {
     "data": {
      "text/plain": [
       "Series([], Name: stage_id, dtype: int64)"
      ]
     },
     "execution_count": 111,
     "metadata": {},
     "output_type": "execute_result"
    }
   ],
   "source": [
    "# how many deals are in each stage\n",
    "df.stage_id.value_counts()"
   ]
  },
  {
   "cell_type": "code",
   "execution_count": null,
   "metadata": {},
   "outputs": [],
   "source": []
  },
  {
   "cell_type": "code",
   "execution_count": 21,
   "metadata": {},
   "outputs": [
    {
     "data": {
      "text/html": [
       "<div>\n",
       "<style scoped>\n",
       "    .dataframe tbody tr th:only-of-type {\n",
       "        vertical-align: middle;\n",
       "    }\n",
       "\n",
       "    .dataframe tbody tr th {\n",
       "        vertical-align: top;\n",
       "    }\n",
       "\n",
       "    .dataframe thead th {\n",
       "        text-align: right;\n",
       "    }\n",
       "</style>\n",
       "<table border=\"1\" class=\"dataframe\">\n",
       "  <thead>\n",
       "    <tr style=\"text-align: right;\">\n",
       "      <th></th>\n",
       "      <th>active_flag</th>\n",
       "      <th>add_time</th>\n",
       "      <th>deal_probability</th>\n",
       "      <th>id</th>\n",
       "      <th>name</th>\n",
       "      <th>order_nr</th>\n",
       "      <th>pipeline_id</th>\n",
       "      <th>pipeline_name</th>\n",
       "      <th>rotten_days</th>\n",
       "      <th>rotten_flag</th>\n",
       "      <th>update_time</th>\n",
       "    </tr>\n",
       "  </thead>\n",
       "  <tbody>\n",
       "    <tr>\n",
       "      <th>0</th>\n",
       "      <td>True</td>\n",
       "      <td>2018-04-10 12:26:34</td>\n",
       "      <td>0</td>\n",
       "      <td>18</td>\n",
       "      <td>Hold</td>\n",
       "      <td>1</td>\n",
       "      <td>1</td>\n",
       "      <td>Pipeline</td>\n",
       "      <td>None</td>\n",
       "      <td>False</td>\n",
       "      <td>2018-05-17 21:15:59</td>\n",
       "    </tr>\n",
       "    <tr>\n",
       "      <th>1</th>\n",
       "      <td>True</td>\n",
       "      <td>2016-12-19 14:29:12</td>\n",
       "      <td>0</td>\n",
       "      <td>9</td>\n",
       "      <td>Qualified Leads to be Worked</td>\n",
       "      <td>2</td>\n",
       "      <td>1</td>\n",
       "      <td>Pipeline</td>\n",
       "      <td>None</td>\n",
       "      <td>False</td>\n",
       "      <td>2018-05-17 21:16:04</td>\n",
       "    </tr>\n",
       "    <tr>\n",
       "      <th>2</th>\n",
       "      <td>True</td>\n",
       "      <td>2017-12-28 19:25:37</td>\n",
       "      <td>0</td>\n",
       "      <td>10</td>\n",
       "      <td>Qualified Leads Being Worked</td>\n",
       "      <td>3</td>\n",
       "      <td>1</td>\n",
       "      <td>Pipeline</td>\n",
       "      <td>None</td>\n",
       "      <td>False</td>\n",
       "      <td>2018-05-17 21:16:09</td>\n",
       "    </tr>\n",
       "    <tr>\n",
       "      <th>3</th>\n",
       "      <td>True</td>\n",
       "      <td>2018-03-08 17:43:48</td>\n",
       "      <td>0</td>\n",
       "      <td>12</td>\n",
       "      <td>Adam Emails</td>\n",
       "      <td>4</td>\n",
       "      <td>1</td>\n",
       "      <td>Pipeline</td>\n",
       "      <td>None</td>\n",
       "      <td>False</td>\n",
       "      <td>2018-05-17 21:16:16</td>\n",
       "    </tr>\n",
       "    <tr>\n",
       "      <th>4</th>\n",
       "      <td>True</td>\n",
       "      <td>2016-11-04 11:26:50</td>\n",
       "      <td>10</td>\n",
       "      <td>2</td>\n",
       "      <td>Contact Made &amp; Interested</td>\n",
       "      <td>5</td>\n",
       "      <td>1</td>\n",
       "      <td>Pipeline</td>\n",
       "      <td>None</td>\n",
       "      <td>False</td>\n",
       "      <td>2018-06-14 11:42:45</td>\n",
       "    </tr>\n",
       "    <tr>\n",
       "      <th>5</th>\n",
       "      <td>True</td>\n",
       "      <td>2018-03-20 20:40:23</td>\n",
       "      <td>30</td>\n",
       "      <td>17</td>\n",
       "      <td>Demo Scheduled</td>\n",
       "      <td>6</td>\n",
       "      <td>1</td>\n",
       "      <td>Pipeline</td>\n",
       "      <td>None</td>\n",
       "      <td>False</td>\n",
       "      <td>2018-06-14 11:42:56</td>\n",
       "    </tr>\n",
       "    <tr>\n",
       "      <th>6</th>\n",
       "      <td>True</td>\n",
       "      <td>2016-11-04 11:26:50</td>\n",
       "      <td>40</td>\n",
       "      <td>3</td>\n",
       "      <td>Demo Completed</td>\n",
       "      <td>7</td>\n",
       "      <td>1</td>\n",
       "      <td>Pipeline</td>\n",
       "      <td>None</td>\n",
       "      <td>False</td>\n",
       "      <td>2018-06-14 11:43:11</td>\n",
       "    </tr>\n",
       "    <tr>\n",
       "      <th>7</th>\n",
       "      <td>True</td>\n",
       "      <td>2018-03-09 15:45:34</td>\n",
       "      <td>40</td>\n",
       "      <td>14</td>\n",
       "      <td>Multiple Demos</td>\n",
       "      <td>8</td>\n",
       "      <td>1</td>\n",
       "      <td>Pipeline</td>\n",
       "      <td>None</td>\n",
       "      <td>False</td>\n",
       "      <td>2018-05-17 21:11:35</td>\n",
       "    </tr>\n",
       "    <tr>\n",
       "      <th>8</th>\n",
       "      <td>True</td>\n",
       "      <td>2016-11-04 11:26:50</td>\n",
       "      <td>60</td>\n",
       "      <td>4</td>\n",
       "      <td>Proposal Made</td>\n",
       "      <td>9</td>\n",
       "      <td>1</td>\n",
       "      <td>Pipeline</td>\n",
       "      <td>None</td>\n",
       "      <td>False</td>\n",
       "      <td>2018-06-14 11:43:34</td>\n",
       "    </tr>\n",
       "    <tr>\n",
       "      <th>9</th>\n",
       "      <td>True</td>\n",
       "      <td>2016-11-04 11:26:50</td>\n",
       "      <td>75</td>\n",
       "      <td>5</td>\n",
       "      <td>Negotiations</td>\n",
       "      <td>10</td>\n",
       "      <td>1</td>\n",
       "      <td>Pipeline</td>\n",
       "      <td>None</td>\n",
       "      <td>False</td>\n",
       "      <td>2018-06-14 11:43:51</td>\n",
       "    </tr>\n",
       "    <tr>\n",
       "      <th>10</th>\n",
       "      <td>True</td>\n",
       "      <td>2018-03-12 21:25:19</td>\n",
       "      <td>100</td>\n",
       "      <td>15</td>\n",
       "      <td>Won</td>\n",
       "      <td>11</td>\n",
       "      <td>1</td>\n",
       "      <td>Pipeline</td>\n",
       "      <td>None</td>\n",
       "      <td>False</td>\n",
       "      <td>2018-05-17 21:10:54</td>\n",
       "    </tr>\n",
       "  </tbody>\n",
       "</table>\n",
       "</div>"
      ],
      "text/plain": [
       "    active_flag             add_time  deal_probability  id  \\\n",
       "0          True  2018-04-10 12:26:34                 0  18   \n",
       "1          True  2016-12-19 14:29:12                 0   9   \n",
       "2          True  2017-12-28 19:25:37                 0  10   \n",
       "3          True  2018-03-08 17:43:48                 0  12   \n",
       "4          True  2016-11-04 11:26:50                10   2   \n",
       "5          True  2018-03-20 20:40:23                30  17   \n",
       "6          True  2016-11-04 11:26:50                40   3   \n",
       "7          True  2018-03-09 15:45:34                40  14   \n",
       "8          True  2016-11-04 11:26:50                60   4   \n",
       "9          True  2016-11-04 11:26:50                75   5   \n",
       "10         True  2018-03-12 21:25:19               100  15   \n",
       "\n",
       "                            name  order_nr  pipeline_id pipeline_name  \\\n",
       "0                           Hold         1            1      Pipeline   \n",
       "1   Qualified Leads to be Worked         2            1      Pipeline   \n",
       "2   Qualified Leads Being Worked         3            1      Pipeline   \n",
       "3                    Adam Emails         4            1      Pipeline   \n",
       "4      Contact Made & Interested         5            1      Pipeline   \n",
       "5                 Demo Scheduled         6            1      Pipeline   \n",
       "6                 Demo Completed         7            1      Pipeline   \n",
       "7                 Multiple Demos         8            1      Pipeline   \n",
       "8                  Proposal Made         9            1      Pipeline   \n",
       "9                   Negotiations        10            1      Pipeline   \n",
       "10                           Won        11            1      Pipeline   \n",
       "\n",
       "   rotten_days  rotten_flag          update_time  \n",
       "0         None        False  2018-05-17 21:15:59  \n",
       "1         None        False  2018-05-17 21:16:04  \n",
       "2         None        False  2018-05-17 21:16:09  \n",
       "3         None        False  2018-05-17 21:16:16  \n",
       "4         None        False  2018-06-14 11:42:45  \n",
       "5         None        False  2018-06-14 11:42:56  \n",
       "6         None        False  2018-06-14 11:43:11  \n",
       "7         None        False  2018-05-17 21:11:35  \n",
       "8         None        False  2018-06-14 11:43:34  \n",
       "9         None        False  2018-06-14 11:43:51  \n",
       "10        None        False  2018-05-17 21:10:54  "
      ]
     },
     "execution_count": 21,
     "metadata": {},
     "output_type": "execute_result"
    }
   ],
   "source": [
    "stages = pd.DataFrame(pipedrive.stages({'limit': 500}, method='GET')['data'])\n",
    "stages"
   ]
  },
  {
   "cell_type": "code",
   "execution_count": 22,
   "metadata": {},
   "outputs": [],
   "source": [
    "# create proability of closing column\n",
    "def expected_value(stage_id):\n",
    "    return stages[stages.id == stage_id].iloc[0].deal_probability / 100\n",
    "\n",
    "df['deal_probability'] = df.stage_id.apply(expected_value)"
   ]
  },
  {
   "cell_type": "code",
   "execution_count": 23,
   "metadata": {},
   "outputs": [],
   "source": [
    "# calc expected value for each deal ( probability of closing * deal value)\n",
    "df['expected_value'] = df.value * df.deal_probability"
   ]
  },
  {
   "cell_type": "code",
   "execution_count": 24,
   "metadata": {},
   "outputs": [
    {
     "data": {
      "text/plain": [
       "9500.0"
      ]
     },
     "execution_count": 24,
     "metadata": {},
     "output_type": "execute_result"
    }
   ],
   "source": [
    "# total pipeline for Abacus\n",
    "df.expected_value.sum()"
   ]
  },
  {
   "cell_type": "code",
   "execution_count": 25,
   "metadata": {},
   "outputs": [],
   "source": [
    "# remove all deals with no expected value\n",
    "df = df[~(df.expected_value == 0)]"
   ]
  },
  {
   "cell_type": "code",
   "execution_count": 55,
   "metadata": {},
   "outputs": [
    {
     "data": {
      "text/plain": [
       "3500.0"
      ]
     },
     "execution_count": 55,
     "metadata": {},
     "output_type": "execute_result"
    }
   ],
   "source": [
    "# total revenue received\n",
    "df[df.stage_id == 15].expected_value.sum()"
   ]
  },
  {
   "cell_type": "code",
   "execution_count": 27,
   "metadata": {},
   "outputs": [
    {
     "data": {
      "text/plain": [
       "count    0.0\n",
       "mean     NaN\n",
       "std      NaN\n",
       "min      NaN\n",
       "25%      NaN\n",
       "50%      NaN\n",
       "75%      NaN\n",
       "max      NaN\n",
       "Name: expected_value, dtype: float64"
      ]
     },
     "execution_count": 27,
     "metadata": {},
     "output_type": "execute_result"
    }
   ],
   "source": [
    "# revenue breakdown\n",
    "df[(df.status == 'won')].expected_value.describe()"
   ]
  },
  {
   "cell_type": "code",
   "execution_count": 28,
   "metadata": {},
   "outputs": [
    {
     "data": {
      "text/plain": [
       "3500.0"
      ]
     },
     "execution_count": 28,
     "metadata": {},
     "output_type": "execute_result"
    }
   ],
   "source": [
    "# expected revenue from open deals\n",
    "df[df.status == 'open'].expected_value.sum()"
   ]
  },
  {
   "cell_type": "code",
   "execution_count": 56,
   "metadata": {},
   "outputs": [
    {
     "data": {
      "text/plain": [
       "count       2.000000\n",
       "mean     1750.000000\n",
       "std      1767.766953\n",
       "min       500.000000\n",
       "25%      1125.000000\n",
       "50%      1750.000000\n",
       "75%      2375.000000\n",
       "max      3000.000000\n",
       "Name: expected_value, dtype: float64"
      ]
     },
     "execution_count": 56,
     "metadata": {},
     "output_type": "execute_result"
    }
   ],
   "source": [
    "# expect revenue break down\n",
    "df[(df.status == 'open')].expected_value.describe()"
   ]
  },
  {
   "cell_type": "code",
   "execution_count": 57,
   "metadata": {},
   "outputs": [],
   "source": [
    "def extract_domain(person_id):\n",
    "    try:\n",
    "        email = person_id['email'][0]['value']\n",
    "        if \"@\" in email:\n",
    "            return email.split(\"@\")[1]\n",
    "    except:\n",
    "        print(person_id)\n",
    "\n",
    "df['domain'] = df.person_id.apply(extract_domain)\n",
    "\n",
    "\n",
    "def extract_email(person_id):\n",
    "    try:\n",
    "        return person_id['email'][0]['value']\n",
    "    except:\n",
    "        print(person_id)\n",
    "\n",
    "df['email'] = df.person_id.apply(extract_email)"
   ]
  },
  {
   "cell_type": "code",
   "execution_count": 58,
   "metadata": {},
   "outputs": [
    {
     "data": {
      "text/plain": [
       "2       meijer.com\n",
       "394    villahc.com\n",
       "413     phcpdn.com\n",
       "Name: domain, dtype: object"
      ]
     },
     "execution_count": 58,
     "metadata": {},
     "output_type": "execute_result"
    }
   ],
   "source": [
    "df.domain"
   ]
  },
  {
   "cell_type": "code",
   "execution_count": 59,
   "metadata": {},
   "outputs": [
    {
     "data": {
      "text/plain": [
       "3"
      ]
     },
     "execution_count": 59,
     "metadata": {},
     "output_type": "execute_result"
    }
   ],
   "source": [
    "# only include deals that have a domain\n",
    "df = df[df.email.notnull()]\n",
    "len(df)"
   ]
  },
  {
   "cell_type": "code",
   "execution_count": 60,
   "metadata": {},
   "outputs": [
    {
     "data": {
      "text/plain": [
       "50"
      ]
     },
     "execution_count": 60,
     "metadata": {},
     "output_type": "execute_result"
    }
   ],
   "source": [
    "# PR emails GG has generated\n",
    "pr_df = pd.read_csv(\"apollo-interested.csv\")\n",
    "pr_emails = pr_df.Email.tolist()\n",
    "len(pr_emails)"
   ]
  },
  {
   "cell_type": "code",
   "execution_count": 61,
   "metadata": {},
   "outputs": [
    {
     "data": {
      "text/plain": [
       "1"
      ]
     },
     "execution_count": 61,
     "metadata": {},
     "output_type": "execute_result"
    }
   ],
   "source": [
    "# pipeline deals we've sent them from prs\n",
    "pipeline_df = df[df.email.isin(pr_emails)]\n",
    "len(pipeline_df)"
   ]
  },
  {
   "cell_type": "code",
   "execution_count": 62,
   "metadata": {},
   "outputs": [
    {
     "data": {
      "text/plain": [
       "500.0"
      ]
     },
     "execution_count": 62,
     "metadata": {},
     "output_type": "execute_result"
    }
   ],
   "source": [
    "# total pipeline deals we've generate from prs\n",
    "pipeline_df.expected_value.sum()"
   ]
  },
  {
   "cell_type": "code",
   "execution_count": 64,
   "metadata": {},
   "outputs": [
    {
     "data": {
      "text/plain": [
       "1"
      ]
     },
     "execution_count": 64,
     "metadata": {},
     "output_type": "execute_result"
    }
   ],
   "source": [
    "# prs closed from GG\n",
    "renvue_df = pipeline_df[pipeline_df.stage_id == 15]\n",
    "len(renvue_df)"
   ]
  },
  {
   "cell_type": "code",
   "execution_count": 65,
   "metadata": {},
   "outputs": [
    {
     "data": {
      "text/plain": [
       "500"
      ]
     },
     "execution_count": 65,
     "metadata": {},
     "output_type": "execute_result"
    }
   ],
   "source": [
    "# total revenue they have closed from GG\n",
    "renvue_df.value.sum()"
   ]
  },
  {
   "cell_type": "code",
   "execution_count": 66,
   "metadata": {},
   "outputs": [
    {
     "data": {
      "text/plain": [
       "413    phcpdn.com\n",
       "Name: domain, dtype: object"
      ]
     },
     "execution_count": 66,
     "metadata": {},
     "output_type": "execute_result"
    }
   ],
   "source": [
    "# deal name\n",
    "renvue_df.domain"
   ]
  },
  {
   "cell_type": "code",
   "execution_count": 67,
   "metadata": {},
   "outputs": [],
   "source": [
    "# do the same analysis by name\n",
    "def extract_domain(Email):\n",
    "    return Email.split(\"@\")[1]\n",
    "\n",
    "pr_df['domain'] = pr_df.Email.apply(extract_domain)\n",
    "pr_domains = pr_df.domain.tolist()"
   ]
  },
  {
   "cell_type": "code",
   "execution_count": 68,
   "metadata": {},
   "outputs": [
    {
     "data": {
      "text/plain": [
       "2"
      ]
     },
     "execution_count": 68,
     "metadata": {},
     "output_type": "execute_result"
    }
   ],
   "source": [
    "# interested number of deals by domain\n",
    "domain_pipeline_df = df[df.domain.isin(pr_domains)]\n",
    "len(domain_pipeline_df)"
   ]
  },
  {
   "cell_type": "code",
   "execution_count": 69,
   "metadata": {},
   "outputs": [
    {
     "data": {
      "text/plain": [
       "3500.0"
      ]
     },
     "execution_count": 69,
     "metadata": {},
     "output_type": "execute_result"
    }
   ],
   "source": [
    "# expected for positive replies by domain\n",
    "domain_pipeline_df.expected_value.sum()"
   ]
  },
  {
   "cell_type": "code",
   "execution_count": 71,
   "metadata": {},
   "outputs": [
    {
     "data": {
      "text/plain": [
       "2"
      ]
     },
     "execution_count": 71,
     "metadata": {},
     "output_type": "execute_result"
    }
   ],
   "source": [
    "# how many deals have we won by domain\n",
    "domain_revenue_df = domain_pipeline_df[domain_pipeline_df.stage_id == 15]\n",
    "len(domain_revenue_df)"
   ]
  },
  {
   "cell_type": "code",
   "execution_count": 72,
   "metadata": {},
   "outputs": [
    {
     "data": {
      "text/plain": [
       "3500"
      ]
     },
     "execution_count": 72,
     "metadata": {},
     "output_type": "execute_result"
    }
   ],
   "source": [
    "domain_revenue_df.value.sum()"
   ]
  },
  {
   "cell_type": "code",
   "execution_count": 73,
   "metadata": {},
   "outputs": [
    {
     "data": {
      "text/plain": [
       "394    mtatelbame@villahc.com\n",
       "413          laura@phcpdn.com\n",
       "Name: email, dtype: object"
      ]
     },
     "execution_count": 73,
     "metadata": {},
     "output_type": "execute_result"
    }
   ],
   "source": [
    "# emails of those who indicated interested\n",
    "# lcherry@fool.com is her actual email that is spelt different in the abacus CRM than it is in Apollo\n",
    "domain_revenue_df.email"
   ]
  },
  {
   "cell_type": "code",
   "execution_count": 74,
   "metadata": {},
   "outputs": [],
   "source": [
    "################ NEUTRAL #########################"
   ]
  },
  {
   "cell_type": "code",
   "execution_count": 75,
   "metadata": {},
   "outputs": [
    {
     "data": {
      "text/plain": [
       "45"
      ]
     },
     "execution_count": 75,
     "metadata": {},
     "output_type": "execute_result"
    }
   ],
   "source": [
    "# neutral leads GG has generated\n",
    "n_df = pd.read_csv('apollo-neutral.csv')\n",
    "len(n_df)"
   ]
  },
  {
   "cell_type": "code",
   "execution_count": 76,
   "metadata": {},
   "outputs": [
    {
     "data": {
      "text/plain": [
       "0"
      ]
     },
     "execution_count": 76,
     "metadata": {},
     "output_type": "execute_result"
    }
   ],
   "source": [
    "# pipeline deals we've sent them from neutrals\n",
    "pipeline_df = df[df.email.isin(n_df.Email.tolist())]\n",
    "len(pipeline_df)"
   ]
  },
  {
   "cell_type": "code",
   "execution_count": 77,
   "metadata": {},
   "outputs": [
    {
     "data": {
      "text/plain": [
       "0.0"
      ]
     },
     "execution_count": 77,
     "metadata": {},
     "output_type": "execute_result"
    }
   ],
   "source": [
    "pipeline_df.expected_value.sum()"
   ]
  },
  {
   "cell_type": "code",
   "execution_count": 78,
   "metadata": {},
   "outputs": [
    {
     "data": {
      "text/plain": [
       "Series([], Name: domain, dtype: object)"
      ]
     },
     "execution_count": 78,
     "metadata": {},
     "output_type": "execute_result"
    }
   ],
   "source": [
    "pipeline_df.domain"
   ]
  },
  {
   "cell_type": "code",
   "execution_count": 79,
   "metadata": {},
   "outputs": [],
   "source": [
    "def extract_domain(Email):\n",
    "    return Email.split(\"@\")[1]\n",
    "\n",
    "n_df['domain'] = n_df.Email.apply(extract_domain)\n",
    "n_domains = n_df.domain.tolist()"
   ]
  },
  {
   "cell_type": "code",
   "execution_count": 80,
   "metadata": {},
   "outputs": [
    {
     "data": {
      "text/plain": [
       "0"
      ]
     },
     "execution_count": 80,
     "metadata": {},
     "output_type": "execute_result"
    }
   ],
   "source": [
    "# neutral number of deals\n",
    "neutral_df = df[df.domain.isin(n_domains)]\n",
    "len(neutral_df)"
   ]
  },
  {
   "cell_type": "code",
   "execution_count": 81,
   "metadata": {},
   "outputs": [
    {
     "data": {
      "text/plain": [
       "0.0"
      ]
     },
     "execution_count": 81,
     "metadata": {},
     "output_type": "execute_result"
    }
   ],
   "source": [
    "# total pipeline for neutral replies\n",
    "neutral_df.expected_value.sum()"
   ]
  },
  {
   "cell_type": "code",
   "execution_count": 82,
   "metadata": {},
   "outputs": [
    {
     "data": {
      "text/plain": [
       "Series([], Name: domain, dtype: object)"
      ]
     },
     "execution_count": 82,
     "metadata": {},
     "output_type": "execute_result"
    }
   ],
   "source": [
    "# titles of deals who indicate neutral\n",
    "# make sure to look up tophatter.com in Apollo - it's a referral\n",
    "neutral_df.domain"
   ]
  },
  {
   "cell_type": "code",
   "execution_count": 54,
   "metadata": {},
   "outputs": [
    {
     "data": {
      "text/plain": [
       "0"
      ]
     },
     "execution_count": 54,
     "metadata": {},
     "output_type": "execute_result"
    }
   ],
   "source": [
    "# total won deals from neutral\n",
    "won_neutral = neutral_df[neutral_df.status == 'won']\n",
    "len(won_neutral)"
   ]
  },
  {
   "cell_type": "code",
   "execution_count": 55,
   "metadata": {},
   "outputs": [],
   "source": [
    "################ NOT INTERESTED #########################"
   ]
  },
  {
   "cell_type": "code",
   "execution_count": 83,
   "metadata": {},
   "outputs": [
    {
     "data": {
      "text/plain": [
       "228"
      ]
     },
     "execution_count": 83,
     "metadata": {},
     "output_type": "execute_result"
    }
   ],
   "source": [
    "# total not interested\n",
    "ni_df = pd.read_csv(\"not-interested.csv\")\n",
    "len(ni_df)"
   ]
  },
  {
   "cell_type": "code",
   "execution_count": 84,
   "metadata": {},
   "outputs": [
    {
     "data": {
      "text/plain": [
       "0"
      ]
     },
     "execution_count": 84,
     "metadata": {},
     "output_type": "execute_result"
    }
   ],
   "source": [
    "# pipeline deals we've sent them from not interested\n",
    "pipeline_df = df[df.email.isin(ni_df.Email.tolist())]\n",
    "len(pipeline_df)"
   ]
  },
  {
   "cell_type": "code",
   "execution_count": 85,
   "metadata": {},
   "outputs": [
    {
     "data": {
      "text/plain": [
       "Series([], Name: formatted_value, dtype: object)"
      ]
     },
     "execution_count": 85,
     "metadata": {},
     "output_type": "execute_result"
    }
   ],
   "source": [
    "pipeline_df.formatted_value"
   ]
  },
  {
   "cell_type": "code",
   "execution_count": 59,
   "metadata": {},
   "outputs": [
    {
     "data": {
      "text/plain": [
       "276           tgiles@commvault.com\n",
       "405                   ian@lens.com\n",
       "325           jcamden@spisales.com\n",
       "22     scott.spence@fundsquire.com\n",
       "Name: email, dtype: object"
      ]
     },
     "execution_count": 59,
     "metadata": {},
     "output_type": "execute_result"
    }
   ],
   "source": [
    "pipeline_df.email"
   ]
  },
  {
   "cell_type": "code",
   "execution_count": 60,
   "metadata": {},
   "outputs": [],
   "source": [
    "def extract_domain(Email):\n",
    "    return Email.split(\"@\")[1]\n",
    "\n",
    "ni_df['domain'] = ni_df.Email.apply(extract_domain)\n",
    "ni_domains = ni_df.domain.tolist()"
   ]
  },
  {
   "cell_type": "code",
   "execution_count": 61,
   "metadata": {},
   "outputs": [
    {
     "data": {
      "text/plain": [
       "14"
      ]
     },
     "execution_count": 61,
     "metadata": {},
     "output_type": "execute_result"
    }
   ],
   "source": [
    "# neutral number of deals\n",
    "len(df[df.domain.isin(ni_domains)])"
   ]
  },
  {
   "cell_type": "code",
   "execution_count": 62,
   "metadata": {},
   "outputs": [
    {
     "data": {
      "text/plain": [
       "95000.0"
      ]
     },
     "execution_count": 62,
     "metadata": {},
     "output_type": "execute_result"
    }
   ],
   "source": [
    "# total pipeline for not interested replies\n",
    "df[df.domain.isin(ni_domains)].expected_value.sum()"
   ]
  },
  {
   "cell_type": "code",
   "execution_count": 63,
   "metadata": {},
   "outputs": [
    {
     "data": {
      "text/plain": [
       "96      eddiebauer.com\n",
       "211       sothebys.com\n",
       "233     outsystems.com\n",
       "269        tradesy.com\n",
       "276      commvault.com\n",
       "279           hulu.com\n",
       "306         forbes.com\n",
       "320         hiscox.com\n",
       "405           lens.com\n",
       "324    selectquote.com\n",
       "325       spisales.com\n",
       "475         kbhome.com\n",
       "22      fundsquire.com\n",
       "35            uncg.edu\n",
       "Name: domain, dtype: object"
      ]
     },
     "execution_count": 63,
     "metadata": {},
     "output_type": "execute_result"
    }
   ],
   "source": [
    "#  domains of deals who indicate not interested\n",
    "df[df.domain.isin(ni_domains)].domain"
   ]
  },
  {
   "cell_type": "code",
   "execution_count": 64,
   "metadata": {},
   "outputs": [
    {
     "data": {
      "text/plain": [
       "22    $30,000\n",
       "Name: formatted_value, dtype: object"
      ]
     },
     "execution_count": 64,
     "metadata": {},
     "output_type": "execute_result"
    }
   ],
   "source": [
    "df[df.domain == 'fundsquire.com'].formatted_value"
   ]
  },
  {
   "cell_type": "code",
   "execution_count": 65,
   "metadata": {},
   "outputs": [],
   "source": [
    "################ LINKEDIN #########################"
   ]
  },
  {
   "cell_type": "code",
   "execution_count": 66,
   "metadata": {},
   "outputs": [
    {
     "data": {
      "text/plain": [
       "1129"
      ]
     },
     "execution_count": 66,
     "metadata": {},
     "output_type": "execute_result"
    }
   ],
   "source": [
    "# total linkedin\n",
    "li_df = pd.read_csv('linkedin.csv')\n",
    "len(li_df)"
   ]
  },
  {
   "cell_type": "code",
   "execution_count": 67,
   "metadata": {},
   "outputs": [
    {
     "data": {
      "text/plain": [
       "0"
      ]
     },
     "execution_count": 67,
     "metadata": {},
     "output_type": "execute_result"
    }
   ],
   "source": [
    "# pipeline deals we've sent them from neutrals\n",
    "pipeline_df = df[df.email.isin(li_df.Email.tolist())]\n",
    "len(pipeline_df)"
   ]
  },
  {
   "cell_type": "code",
   "execution_count": 68,
   "metadata": {},
   "outputs": [
    {
     "data": {
      "text/plain": [
       "Series([], Name: formatted_value, dtype: object)"
      ]
     },
     "execution_count": 68,
     "metadata": {},
     "output_type": "execute_result"
    }
   ],
   "source": [
    "pipeline_df.formatted_value"
   ]
  },
  {
   "cell_type": "code",
   "execution_count": 69,
   "metadata": {},
   "outputs": [
    {
     "data": {
      "text/plain": [
       "Series([], Name: email, dtype: object)"
      ]
     },
     "execution_count": 69,
     "metadata": {},
     "output_type": "execute_result"
    }
   ],
   "source": [
    "# harrison entered their funnel outside of GG - checked Peter's linkedin (should check lances as well)\n",
    "pipeline_df.email"
   ]
  },
  {
   "cell_type": "code",
   "execution_count": 70,
   "metadata": {},
   "outputs": [],
   "source": [
    "def extract_domain(Email):\n",
    "    try:\n",
    "        return Email.split(\"@\")[1]\n",
    "    except:\n",
    "        return ''\n",
    "\n",
    "li_df['domain'] = li_df.Email.apply(extract_domain)\n",
    "li_domains = li_df.domain.tolist()"
   ]
  },
  {
   "cell_type": "code",
   "execution_count": 71,
   "metadata": {},
   "outputs": [
    {
     "data": {
      "text/plain": [
       "0"
      ]
     },
     "execution_count": 71,
     "metadata": {},
     "output_type": "execute_result"
    }
   ],
   "source": [
    "# neutral number of event deals\n",
    "len(df[df.domain.isin(li_domains)])"
   ]
  },
  {
   "cell_type": "code",
   "execution_count": 72,
   "metadata": {},
   "outputs": [
    {
     "data": {
      "text/plain": [
       "0.0"
      ]
     },
     "execution_count": 72,
     "metadata": {},
     "output_type": "execute_result"
    }
   ],
   "source": [
    "# total pipeline for not interested replies\n",
    "df[df.domain.isin(li_domains)].expected_value.sum()"
   ]
  },
  {
   "cell_type": "code",
   "execution_count": 73,
   "metadata": {},
   "outputs": [
    {
     "ename": "NameError",
     "evalue": "name 'event_domains' is not defined",
     "output_type": "error",
     "traceback": [
      "\u001b[0;31m---------------------------------------------------------------------------\u001b[0m",
      "\u001b[0;31mNameError\u001b[0m                                 Traceback (most recent call last)",
      "\u001b[0;32m<ipython-input-73-de9f6e442015>\u001b[0m in \u001b[0;36m<module>\u001b[0;34m()\u001b[0m\n\u001b[1;32m      1\u001b[0m \u001b[0;31m# titles of deals who indicate not interested\u001b[0m\u001b[0;34m\u001b[0m\u001b[0;34m\u001b[0m\u001b[0m\n\u001b[0;32m----> 2\u001b[0;31m \u001b[0mdf\u001b[0m\u001b[0;34m[\u001b[0m\u001b[0mdf\u001b[0m\u001b[0;34m.\u001b[0m\u001b[0mdomain\u001b[0m\u001b[0;34m.\u001b[0m\u001b[0misin\u001b[0m\u001b[0;34m(\u001b[0m\u001b[0mevent_domains\u001b[0m\u001b[0;34m)\u001b[0m\u001b[0;34m]\u001b[0m\u001b[0;34m.\u001b[0m\u001b[0mdomain\u001b[0m\u001b[0;34m\u001b[0m\u001b[0m\n\u001b[0m",
      "\u001b[0;31mNameError\u001b[0m: name 'event_domains' is not defined"
     ]
    }
   ],
   "source": [
    "# titles of deals who indicate not interested\n",
    "df[df.domain.isin(event_domains)].domain"
   ]
  },
  {
   "cell_type": "code",
   "execution_count": null,
   "metadata": {},
   "outputs": [],
   "source": [
    "df[df.domain == '1milk2sugarspr.com']"
   ]
  },
  {
   "cell_type": "code",
   "execution_count": null,
   "metadata": {},
   "outputs": [],
   "source": [
    "# need to login as peter to finish this attribution analysis for events"
   ]
  },
  {
   "cell_type": "code",
   "execution_count": 74,
   "metadata": {},
   "outputs": [],
   "source": [
    "################ TOTAL ROI #########################"
   ]
  },
  {
   "cell_type": "code",
   "execution_count": 75,
   "metadata": {},
   "outputs": [
    {
     "data": {
      "text/plain": [
       "90"
      ]
     },
     "execution_count": 75,
     "metadata": {},
     "output_type": "execute_result"
    }
   ],
   "source": [
    "# total GG deals\n",
    "len(df[df.domain.isin(n_domains)]) + len(df[df.domain.isin(ni_domains)]) + len(df[df.domain.isin(pr_domains)]) + len(df[df.domain.isin(li_domains)])"
   ]
  },
  {
   "cell_type": "code",
   "execution_count": 76,
   "metadata": {},
   "outputs": [],
   "source": [
    "gg_total = df[df.domain.isin(ni_domains)].expected_value.sum() + df[df.domain.isin(n_domains)].expected_value.sum() + df[df.domain.isin(pr_domains)].expected_value.sum() + df[df.domain.isin(li_domains)].expected_value.sum()"
   ]
  },
  {
   "cell_type": "code",
   "execution_count": 77,
   "metadata": {},
   "outputs": [
    {
     "data": {
      "text/plain": [
       "763300.0"
      ]
     },
     "execution_count": 77,
     "metadata": {},
     "output_type": "execute_result"
    }
   ],
   "source": [
    "gg_total"
   ]
  },
  {
   "cell_type": "code",
   "execution_count": 78,
   "metadata": {},
   "outputs": [
    {
     "data": {
      "text/plain": [
       "118.19448745741717"
      ]
     },
     "execution_count": 78,
     "metadata": {},
     "output_type": "execute_result"
    }
   ],
   "source": [
    "gg_total / df.expected_value.sum() * 100"
   ]
  },
  {
   "cell_type": "code",
   "execution_count": null,
   "metadata": {},
   "outputs": [],
   "source": []
  },
  {
   "cell_type": "code",
   "execution_count": null,
   "metadata": {},
   "outputs": [],
   "source": []
  },
  {
   "cell_type": "code",
   "execution_count": null,
   "metadata": {},
   "outputs": [],
   "source": []
  },
  {
   "cell_type": "code",
   "execution_count": null,
   "metadata": {},
   "outputs": [],
   "source": []
  },
  {
   "cell_type": "code",
   "execution_count": null,
   "metadata": {},
   "outputs": [],
   "source": []
  },
  {
   "cell_type": "code",
   "execution_count": null,
   "metadata": {},
   "outputs": [],
   "source": []
  }
 ],
 "metadata": {
  "kernelspec": {
   "display_name": "Python 3",
   "language": "python",
   "name": "python3"
  },
  "language_info": {
   "codemirror_mode": {
    "name": "ipython",
    "version": 3
   },
   "file_extension": ".py",
   "mimetype": "text/x-python",
   "name": "python",
   "nbconvert_exporter": "python",
   "pygments_lexer": "ipython3",
   "version": "3.6.5"
  }
 },
 "nbformat": 4,
 "nbformat_minor": 2
}
