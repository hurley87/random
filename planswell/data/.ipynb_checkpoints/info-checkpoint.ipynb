{
 "cells": [
  {
   "cell_type": "code",
   "execution_count": 1,
   "metadata": {
    "collapsed": true
   },
   "outputs": [],
   "source": [
    "import pandas as pd"
   ]
  },
  {
   "cell_type": "code",
   "execution_count": 2,
   "metadata": {
    "collapsed": false
   },
   "outputs": [
    {
     "name": "stderr",
     "output_type": "stream",
     "text": [
      "/anaconda/lib/python3.6/site-packages/IPython/core/interactiveshell.py:2717: DtypeWarning: Columns (23,24,31,34,42,43,44,45,46,47,50,63,83,89,96,97,99,109,128,131,134,138,148,152,155,158,161,164,177,180,183,186,189,195,197,199,201,203,226,232,235,237,238,252,255) have mixed types. Specify dtype option on import or set low_memory=False.\n",
      "  interactivity=interactivity, compiler=compiler, result=result)\n"
     ]
    },
    {
     "data": {
      "text/plain": [
       "2086"
      ]
     },
     "execution_count": 2,
     "metadata": {},
     "output_type": "execute_result"
    }
   ],
   "source": [
    "df1 = pd.read_csv('sg.csv')\n",
    "df2 = pd.read_csv('abacus.csv')\n",
    "\n",
    "df = pd.concat([df1, df2, df3])\n",
    "emails = list(set(df[df.province.notnull()].email.tolist()))\n",
    "len(emails)"
   ]
  },
  {
   "cell_type": "code",
   "execution_count": 3,
   "metadata": {
    "collapsed": true
   },
   "outputs": [],
   "source": [
    "from pipedrive import Pipedrive"
   ]
  },
  {
   "cell_type": "code",
   "execution_count": 4,
   "metadata": {
    "collapsed": false
   },
   "outputs": [
    {
     "name": "stdout",
     "output_type": "stream",
     "text": [
      "0\n",
      "1\n",
      "500\n",
      "2\n",
      "1000\n",
      "3\n",
      "1500\n",
      "4\n",
      "2000\n",
      "5\n"
     ]
    }
   ],
   "source": [
    "pipedrive = Pipedrive('48357285ee02f8a9dabfbde9adacc3bd7a9ec67f')\n",
    "\n",
    "more_deals = True\n",
    "deal_lists = []\n",
    "new_start = 0\n",
    "\n",
    "while more_deals:\n",
    "    print(new_start)\n",
    "    pipedrive_deals = pipedrive.deals({'status':'all_not_deleted', 'limit': 500, 'start': new_start}, method='GET')\n",
    "    new_deals = pipedrive_deals['data']\n",
    "    deal_dataframe = pd.DataFrame(new_deals)\n",
    "    deal_lists.append(deal_dataframe)\n",
    "    print(len(deal_lists))\n",
    "    more_deals = pipedrive_deals['additional_data']['pagination']['more_items_in_collection']\n",
    "    new_start += 500\n",
    "\n",
    "pipedrive_df = pd.concat(deal_lists)"
   ]
  },
  {
   "cell_type": "code",
   "execution_count": 5,
   "metadata": {
    "collapsed": false
   },
   "outputs": [
    {
     "data": {
      "text/plain": [
       "1994"
      ]
     },
     "execution_count": 5,
     "metadata": {},
     "output_type": "execute_result"
    }
   ],
   "source": [
    "pipedrive_df = pipedrive_df[(pipedrive_df.stage_id.isin([47,48,49]))]\n",
    "len(pipedrive_df)"
   ]
  },
  {
   "cell_type": "code",
   "execution_count": 6,
   "metadata": {
    "collapsed": false
   },
   "outputs": [],
   "source": [
    "def email_extract(contact):\n",
    "    if not isinstance(contact, int):\n",
    "        return contact['email'][0]['value']"
   ]
  },
  {
   "cell_type": "code",
   "execution_count": 7,
   "metadata": {
    "collapsed": false
   },
   "outputs": [],
   "source": [
    "pipedrive_df['email'] = pipedrive_df.person_id.apply(email_extract)"
   ]
  },
  {
   "cell_type": "code",
   "execution_count": 8,
   "metadata": {
    "collapsed": false
   },
   "outputs": [
    {
     "data": {
      "text/plain": [
       "1994"
      ]
     },
     "execution_count": 8,
     "metadata": {},
     "output_type": "execute_result"
    }
   ],
   "source": [
    "worked_emails = pipedrive_df[(pipedrive_df.stage_id.isin([47,48,49])) & (pipedrive_df.pipeline_id == 7)].email.tolist()\n",
    "len(worked_emails)"
   ]
  },
  {
   "cell_type": "code",
   "execution_count": 9,
   "metadata": {
    "collapsed": false
   },
   "outputs": [
    {
     "data": {
      "text/plain": [
       "1476"
      ]
     },
     "execution_count": 9,
     "metadata": {},
     "output_type": "execute_result"
    }
   ],
   "source": [
    "good_emails = []\n",
    "for email in worked_emails:\n",
    "    if email in emails:\n",
    "        good_emails.append(email)\n",
    "        \n",
    "len(good_emails)"
   ]
  },
  {
   "cell_type": "code",
   "execution_count": 10,
   "metadata": {
    "collapsed": false
   },
   "outputs": [
    {
     "data": {
      "text/plain": [
       "11512"
      ]
     },
     "execution_count": 10,
     "metadata": {},
     "output_type": "execute_result"
    }
   ],
   "source": [
    "len(df.index)"
   ]
  },
  {
   "cell_type": "code",
   "execution_count": 11,
   "metadata": {
    "collapsed": false
   },
   "outputs": [],
   "source": [
    "df = df[df.province.notnull()]\n",
    "df = df.drop_duplicates(subset=['email'], keep='last')\n",
    "df = df[df.email.isin(good_emails)]\n",
    "sg_emails = df.email.tolist()"
   ]
  },
  {
   "cell_type": "code",
   "execution_count": 12,
   "metadata": {
    "collapsed": false
   },
   "outputs": [
    {
     "data": {
      "text/plain": [
       "1476"
      ]
     },
     "execution_count": 12,
     "metadata": {},
     "output_type": "execute_result"
    }
   ],
   "source": [
    "pipedrive_df = pipedrive_df[pipedrive_df.email.isin(sg_emails)]\n",
    "pipedrive_df.email.count()"
   ]
  },
  {
   "cell_type": "code",
   "execution_count": 13,
   "metadata": {
    "collapsed": false
   },
   "outputs": [],
   "source": [
    "combined_df = pd.merge(pipedrive_df, df, on='email')"
   ]
  },
  {
   "cell_type": "code",
   "execution_count": 14,
   "metadata": {
    "collapsed": false
   },
   "outputs": [
    {
     "data": {
      "text/plain": [
       "0           rolake.fakunle@gmail.com\n",
       "1       ian.andrew.russell@gmail.com\n",
       "2             willsmatthew@gmail.com\n",
       "3               meow@janehasacat.com\n",
       "4               jsphilpott@gmail.com\n",
       "5         emilee.d.gilbert@gmail.com\n",
       "6                  gml2291@gmail.com\n",
       "7               majidmomen@gmail.com\n",
       "8            jdgreenberg91@gmail.com\n",
       "9                  danwkho@gmail.com\n",
       "10                 danwkho@gmail.com\n",
       "11       hutchison.allison@gmail.com\n",
       "12               mail@davethomson.ca\n",
       "13          bartram.andrew@gmail.com\n",
       "14         jenna.l.grant22@gmail.com\n",
       "15          the_driver_666@yahoo.com\n",
       "16           jacek.k@globalserve.net\n",
       "17           mail@gabrieltomescu.com\n",
       "18         judibemister@sympatico.ca\n",
       "19               hosseinpn@gmail.com\n",
       "20           charrison8392@gmail.com\n",
       "21            arrowcraft106@yahoo.ca\n",
       "22             empresskong@gmail.com\n",
       "23             gadabout187@gmail.com\n",
       "24              pricedmp@hotmail.com\n",
       "25          violetapopov@hotmail.com\n",
       "26               d.murray@calian.com\n",
       "27            lalonder81@hotmail.com\n",
       "28                 alex123@gmail.com\n",
       "29          chris.jt.dance@gmail.com\n",
       "                    ...             \n",
       "1446    rene.chiasson@janosource.com\n",
       "1447             lurkerm1e@lycos.com\n",
       "1448           cindywanke@hotmail.ca\n",
       "1449           ldsilby1970@gmail.com\n",
       "1450            denise.2@hotmail.com\n",
       "1451                 rnauss@live.com\n",
       "1452           edterlien@hotmail.com\n",
       "1453                   iii@gmail.com\n",
       "1454                hsydydh@hotm.com\n",
       "1455     monica.laviolette@gmail.com\n",
       "1456              cmdn4321@gmail.com\n",
       "1457        goodoldboy44@hotmail.com\n",
       "1458            fredpynn12@gmail.com\n",
       "1459         priyankbarot30@yahoo.ca\n",
       "1460             dbonkster@gmail.com\n",
       "1461         jasoncassidy5@gmail.com\n",
       "1462             roisan1@hotmail.com\n",
       "1463    felicia.perricelli@gmail.com\n",
       "1464                rhiggs@gmail.com\n",
       "1465            one4meetup@gmail.com\n",
       "1466                   test@icle.com\n",
       "1467               no.thanks@msn.com\n",
       "1468                   sandy@weis.ca\n",
       "1469            tdmckee@alum.mit.edu\n",
       "1470           asadhaiderr@gmail.com\n",
       "1471       pierrenatividad@gmail.com\n",
       "1472           matthowl078@gmail.com\n",
       "1473          josef_nulman@yahoo.com\n",
       "1474          loney.graham@gmail.com\n",
       "1475           joanann16@hotmail.com\n",
       "Name: email, dtype: object"
      ]
     },
     "execution_count": 14,
     "metadata": {},
     "output_type": "execute_result"
    }
   ],
   "source": [
    "combined_df.email"
   ]
  },
  {
   "cell_type": "code",
   "execution_count": 15,
   "metadata": {
    "collapsed": true
   },
   "outputs": [],
   "source": [
    "cols=['email', 'status', 'active', 'stage_id', 'pipeline_id', 'lost_reason', 'annualIncome',  'debt', 'hasChildren', 'hasSpouse', 'phone', 'ref', 'monthlySavings', 'retirementAge', 'sex', 'smoke', 'spouseMonthlySavings', 'currentAge', 'renting' ]"
   ]
  },
  {
   "cell_type": "code",
   "execution_count": 16,
   "metadata": {
    "collapsed": true
   },
   "outputs": [],
   "source": [
    "combined_df.to_csv('cool.csv', encoding='utf-8', columns=cols)"
   ]
  },
  {
   "cell_type": "code",
   "execution_count": 17,
   "metadata": {
    "collapsed": false
   },
   "outputs": [
    {
     "data": {
      "text/plain": [
       "array(['1dbf28bd753eb82c3c84db89ce7f7b3ac07c1f6c',\n",
       "       '4491613a92dfbe33bdd5305292dcdeec9bdee084',\n",
       "       '4c9ed52950431e42eec343c311e558405ffa854b',\n",
       "       '4fc5f2a4e8e0dc606f91d3124ed6cdf3f3dd7e7e',\n",
       "       '54027944a2a797a765d8119c004f8e25fb5efef2',\n",
       "       '54027944a2a797a765d8119c004f8e25fb5efef2_currency',\n",
       "       '5760be9c2549b2845496de437fd447d658418845',\n",
       "       '5a825bad48d0d84c4801cefd0373b53fb576cbf7',\n",
       "       '693297a3d4c0e485bfc7de6017fff29a84645e6c',\n",
       "       '6afb15ec9622e97950dee3edca0014b024ca45f6',\n",
       "       '7623d0ae66a5d4a3dfe97f1aeac2802eca77c417',\n",
       "       '9728bb4830f2c2174771856d3a38e9bc66163b6c',\n",
       "       '9728bb4830f2c2174771856d3a38e9bc66163b6c_currency',\n",
       "       '9d610697416aae000558d11697c26fd869e01a53',\n",
       "       'a61d2dc6d7ebdd5738b5c7bc5fc1d58e0dadcdd4', 'active',\n",
       "       'activities_count', 'add_time',\n",
       "       'c35f9a2d6a96afab076fc467dc83faad3c593e73', 'cc_email',\n",
       "       'close_time', 'creator_user_id', 'currency', 'deleted',\n",
       "       'done_activities_count', 'e96f0ccd5683a3a1988d624a8a8b7323f0c7068f',\n",
       "       'ef9b3aad5132b74e9943c37618bae778a35f7276',\n",
       "       'ef9b3aad5132b74e9943c37618bae778a35f7276_currency',\n",
       "       'email_messages_count', 'expected_close_date',\n",
       "       'fc9915a74cfa64febca76d7d4380ba1f63d90ee5', 'files_count',\n",
       "       'first_won_time', 'followers_count', 'formatted_value',\n",
       "       'formatted_weighted_value', 'id', 'last_activity_date',\n",
       "       'last_activity_id', 'last_incoming_mail_time',\n",
       "       'last_outgoing_mail_time', 'lost_reason', 'lost_time',\n",
       "       'next_activity_date', 'next_activity_duration', 'next_activity_id',\n",
       "       'next_activity_note', 'next_activity_subject', 'next_activity_time',\n",
       "       'next_activity_type', 'notes_count', 'org_hidden', 'org_id',\n",
       "       'org_name', 'owner_name', 'participants_count', 'person_hidden',\n",
       "       'person_id', 'person_name', 'pipeline_id', 'products_count',\n",
       "       'reference_activities_count', 'rotten_time', 'stage_change_time',\n",
       "       'stage_id', 'stage_order_nr', 'status', 'title_x',\n",
       "       'undone_activities_count', 'update_time', 'user_id', 'value',\n",
       "       'visible_to', 'weighted_value', 'won_time', 'email',\n",
       "       'Based on your answers, we recommend a small change so you can maintain your lifestyle when you retire. Which option is best for you?',\n",
       "       'CPP:retireeIncomeSources', 'Car:debtBalances', 'City', 'Comments',\n",
       "       'Contact ID', 'Cottage / Recreation property:debtBalances',\n",
       "       'Country', 'Credit Card:debtBalances', 'Date Submitted',\n",
       "       'Do you expect to earn any income in retirement?',\n",
       "       'Do you expect to work part time in retirement?',\n",
       "       'Employment income:retireeIncomeSources', 'Extended Referer',\n",
       "       'Extended User Agent', 'IP Address',\n",
       "       'Investments:retireeIncomeSources', 'Language', 'Latitude',\n",
       "       'Legacy Comments', 'Line of credit:debtBalances', 'Longitude',\n",
       "       'N/A:accountsValue', 'New JavaScript', 'New JavaScript.1',\n",
       "       'New JavaScript.10', 'New JavaScript.11', 'New JavaScript.12',\n",
       "       'New JavaScript.13', 'New JavaScript.14', 'New JavaScript.15',\n",
       "       'New JavaScript.16', 'New JavaScript.17', 'New JavaScript.18',\n",
       "       'New JavaScript.19', 'New JavaScript.2', 'New JavaScript.20',\n",
       "       'New JavaScript.21', 'New JavaScript.22', 'New JavaScript.23',\n",
       "       'New JavaScript.24', 'New JavaScript.25', 'New JavaScript.26',\n",
       "       'New JavaScript.27', 'New JavaScript.28', 'New JavaScript.29',\n",
       "       'New JavaScript.3', 'New JavaScript.30', 'New JavaScript.31',\n",
       "       'New JavaScript.32', 'New JavaScript.33', 'New JavaScript.34',\n",
       "       'New JavaScript.35', 'New JavaScript.36', 'New JavaScript.37',\n",
       "       'New JavaScript.38', 'New JavaScript.39', 'New JavaScript.4',\n",
       "       'New JavaScript.40', 'New JavaScript.41', 'New JavaScript.42',\n",
       "       'New JavaScript.43', 'New JavaScript.44', 'New JavaScript.45',\n",
       "       'New JavaScript.46', 'New JavaScript.47', 'New JavaScript.48',\n",
       "       'New JavaScript.49', 'New JavaScript.5', 'New JavaScript.50',\n",
       "       'New JavaScript.51', 'New JavaScript.52', 'New JavaScript.53',\n",
       "       'New JavaScript.54', 'New JavaScript.55', 'New JavaScript.56',\n",
       "       'New JavaScript.57', 'New JavaScript.58', 'New JavaScript.59',\n",
       "       'New JavaScript.6', 'New JavaScript.60', 'New JavaScript.7',\n",
       "       'New JavaScript.8', 'New JavaScript.9',\n",
       "       'New JavaScript[question(\"value\"), id=\"277\"]',\n",
       "       'New JavaScript[question(\"value\"), id=\"277\"].1',\n",
       "       'New JavaScript[question(\"value\"), id=\"463\"]',\n",
       "       'New JavaScript[question(\"value\"), id=\"565\"]',\n",
       "       'New JavaScript[question(\"value\"), id=\"83\"]',\n",
       "       'None:retireeIncomeSources', 'OAS:retireeIncomeSources',\n",
       "       'Optimizely',\n",
       "       'Other (personal loan, student loan, etc.):debtBalances',\n",
       "       'Other savings and investments:accountsValue', 'Planswell',\n",
       "       'Postal', 'Private Pension:retireeIncomeSources', 'Referer',\n",
       "       'Registered Education Savings Plan  (RESP):accountsValue',\n",
       "       'Registered Retirement Savings Plan (RRSP):accountsValue',\n",
       "       'Response ID', 'SessionID', 'State/Region', 'Status', 'Tags',\n",
       "       'Tax Free Savings Account (TFSA):accountsValue', 'Time Started',\n",
       "       'User Agent', 'accountsValueTime',\n",
       "       'additionalIncome:monthlySavings', 'annualIncome',\n",
       "       'annualIncomeTime', 'annualRetirementIncome', 'buyInRetirement',\n",
       "       'buyInRetirementTime', 'carBalance', 'carPayment', 'childLength',\n",
       "       'city', 'cottageBalance', 'cottagePayment', 'cpp', 'cppTime',\n",
       "       'creditCardBalance', 'creditCardPayment', 'current date',\n",
       "       'currentAge', 'currentAgeTime', 'currentlyRetired', 'debt',\n",
       "       'debtTime', 'editLink', 'emailJS  \\xa0', 'emailJS \\xa0',\n",
       "       'emailTime', 'employmentIncome', 'employmentIncomeTime',\n",
       "       'etfFamiliarity', 'etfTime', 'feelsImportant', 'feelsImportantTime',\n",
       "       'fifthChildAge', 'fifthChildAge:How old is\\xa0your fifth child?',\n",
       "       'fifthChildName', 'fifthChildName:How old is\\xa0your fifth child?',\n",
       "       'firstChildAge', 'firstChildAge:childrenInfo', 'firstChildName',\n",
       "       'firstChildName:childrenInfo', 'firstName', 'firstNameTime',\n",
       "       'firstSubmit', 'fourthChildAge',\n",
       "       'fourthChildAge:How old is your fourth child?', 'fourthChildName',\n",
       "       'fourthChildName:How old is your fourth child?',\n",
       "       'groupBenefitsTime', 'hasChildren', 'hasSpouse', 'homeWorth',\n",
       "       'homeWorthTime', 'investmentLength', 'investmentLengthTime',\n",
       "       'investmentsDraw', 'investmentsFell', 'investmentsFellTime',\n",
       "       'investmentsTime', 'kidsTime', 'lineOfCreditBalance',\n",
       "       'lineOfCreditPayment', 'monthlyRent', 'monthlySavings',\n",
       "       'monthySavingsTime', 'mortgageLeft', 'mortgageLeftTime',\n",
       "       'mortgagePayment', 'mortgagePaymentTime', 'oas', 'oasTime',\n",
       "       'otherAccounts', 'otherAccountsTime', 'otherDebtBalance',\n",
       "       'otherDebtPayment', 'phone', 'phoneLead', 'phoneTime',\n",
       "       'primaryGroupBenefits', 'privatePension', 'privatePensionTime',\n",
       "       'province', 'provinceTime', 'ref', 'rentInRetirement',\n",
       "       'rentInRetirementTime', 'rentOwnTime', 'rentTime', 'renting',\n",
       "       'resp', 'respTime', 'retireeIncomeSourcesTime', 'retirementAge',\n",
       "       'retirementAgeTime', 'retirementGoal', 'retirementGoalTime',\n",
       "       'retirementIncomeTime', 'rrsp', 'rrspTime', 'secondChildAge',\n",
       "       'secondChildAge:How old is your second child?', 'secondChildName',\n",
       "       'secondChildName:How old is your second child?',\n",
       "       'sellHouseInRetirement', 'sellHouseInRetirementTime', 'sessionId',\n",
       "       'sex', 'sexTime', 'smoke', 'smokingTime', 'spouseAccountValuesTime',\n",
       "       'spouseAdditionalIncome:spouseMonthlySavings', 'spouseAge',\n",
       "       'spouseAgeTime', 'spouseAllOthers:spouseAccountValues',\n",
       "       'spouseCpp:spouseIncomeSources',\n",
       "       'spouseEmploymentIncome:spouseIncomeSources', 'spouseGroupBenefits',\n",
       "       'spouseIncome', 'spouseIncomeSourcesTime', 'spouseIncomeTime',\n",
       "       'spouseInvesting', 'spouseInvestingTime',\n",
       "       'spouseInvestmentsDraw:spouseIncomeSources', 'spouseMonthlySavings',\n",
       "       'spouseMonthlySavingsTime', 'spouseName', 'spouseNameTime',\n",
       "       'spouseOas:spouseIncomeSources',\n",
       "       'spousePrivatePension:spouseIncomeSources', 'spouseRetired',\n",
       "       'spouseRetiredTime', 'spouseRetirementAge', 'spouseRetirementAge.1',\n",
       "       'spouseRetirementAgeTime', 'spouseRetirementIncome',\n",
       "       'spouseRetirementIncomeTime', 'spouseRif:spouseAccountValues',\n",
       "       'spouseRrsp:spouseAccountValues', 'spouseSex', 'spouseSexTime',\n",
       "       'spouseSmoke', 'spouseSmokingTime', 'spouseSmokingTime.1',\n",
       "       'spouseTenYearIncome', 'spouseTenYearIncomeTime',\n",
       "       'spouseTfsa:spouseAccountValues', 'spouseTime', 'start time',\n",
       "       'tenYearIncome', 'tenYearIncomeTime', 'tfsa', 'tfsaTime',\n",
       "       'thirdChildAge', 'thirdChildAge:How old is your third child?',\n",
       "       'thirdChildName', 'thirdChildName:How old is your third child?',\n",
       "       'timeToPhone', 'title_y', 'type'], dtype=object)"
      ]
     },
     "execution_count": 17,
     "metadata": {},
     "output_type": "execute_result"
    }
   ],
   "source": [
    "combined_df.columns.values"
   ]
  },
  {
   "cell_type": "code",
   "execution_count": 18,
   "metadata": {
    "collapsed": false
   },
   "outputs": [
    {
     "data": {
      "text/plain": [
       "1476"
      ]
     },
     "execution_count": 18,
     "metadata": {},
     "output_type": "execute_result"
    }
   ],
   "source": [
    "len(combined_df.index)"
   ]
  },
  {
   "cell_type": "code",
   "execution_count": 19,
   "metadata": {
    "collapsed": false
   },
   "outputs": [
    {
     "name": "stdout",
     "output_type": "stream",
     "text": [
      "cool\n"
     ]
    }
   ],
   "source": [
    "if 'freckledsun@yahoo.ca' in emails:\n",
    "    print('cool')"
   ]
  },
  {
   "cell_type": "code",
   "execution_count": 20,
   "metadata": {
    "collapsed": false
   },
   "outputs": [
    {
     "data": {
      "text/plain": [
       "paulamedford@hotmail.com            2\n",
       "chansim4@gmail.com                  2\n",
       "abc@gmail.com                       2\n",
       "dpmelling@hotmail.com               2\n",
       "ghj@yahoo.com                       2\n",
       "jamie_way@mac.com                   2\n",
       "lalaanwar555@hotmail.com            2\n",
       "jbperry001@hotmail.com              2\n",
       "ljjb@jba.cpm                        2\n",
       "andrewfergus@hotmail.com            2\n",
       "scs-9@hotmail.com                   2\n",
       "x@y.com                             2\n",
       "aa@nothanks.com                     2\n",
       "marvin.a.lara@gmail.com             2\n",
       "danwkho@gmail.com                   2\n",
       "verticalmoonshine@hotmail.com       1\n",
       "nowhere@stupidwebsite.ass           1\n",
       "mcorney@bell.net                    1\n",
       "johnfox@on.aibn.com                 1\n",
       "msaniga@rogers.com                  1\n",
       "rich@triangles.net                  1\n",
       "lunchengngo@gmail.com               1\n",
       "andrewrichards19861986@gmail.com    1\n",
       "teresaconte@hotmail.com             1\n",
       "ala04ala@gmail.com                  1\n",
       "bla@gmail.com                       1\n",
       "fopsy50@gmail.com                   1\n",
       "x@x.com                             1\n",
       "marijana.miric@gmail.com            1\n",
       "pc448794@gmail.com                  1\n",
       "                                   ..\n",
       "sharon.flynn@gmail.com              1\n",
       "davetimms@ymail.com                 1\n",
       "tt@hotmail.com                      1\n",
       "jackabruner@gmail.com               1\n",
       "mikestrome@gmail.com                1\n",
       "shaun.cott@gmail.com                1\n",
       "one4meetup@gmail.com                1\n",
       "georgep831@gmail.com                1\n",
       "tdmckee@alum.mit.edu                1\n",
       "scottwilly1966@gmail.com            1\n",
       "gigi@yahoo.ca                       1\n",
       "hosseinpn@gmail.com                 1\n",
       "suzgillies3@gmail.com               1\n",
       "emily.ellen@hotmail.com             1\n",
       "roxalungu@gmail.com                 1\n",
       "jeff.couse@gmail.com                1\n",
       "pearl.sequeira@gmail.com            1\n",
       "gopidevops@gmail.com                1\n",
       "tydevorkin@gmail.com                1\n",
       "arrowcraft106@yahoo.ca              1\n",
       "rvanbenthem@yahoo.com               1\n",
       "davetest@gmail.com                  1\n",
       "hilarycolleenevans@gmail.com        1\n",
       "amber.dukart@gmail.com              1\n",
       "loney.graham@gmail.com              1\n",
       "tammyw76@live.ca                    1\n",
       "rwalton6@live.ca                    1\n",
       "rowan73@bell.net                    1\n",
       "allison.clarke@uhn.ca               1\n",
       "ff@gmail.com                        1\n",
       "Name: email, dtype: int64"
      ]
     },
     "execution_count": 20,
     "metadata": {},
     "output_type": "execute_result"
    }
   ],
   "source": [
    "combined_df.email.value_counts()"
   ]
  },
  {
   "cell_type": "code",
   "execution_count": null,
   "metadata": {
    "collapsed": true
   },
   "outputs": [],
   "source": []
  },
  {
   "cell_type": "code",
   "execution_count": 21,
   "metadata": {
    "collapsed": false
   },
   "outputs": [],
   "source": [
    "s = combined_df.email.value_counts()\n",
    "eddie_df = combined_df[combined_df.email.isin(s[s == 2].index)]\n",
    "eddie_df = eddie_df.drop_duplicates(subset=['email'])"
   ]
  },
  {
   "cell_type": "code",
   "execution_count": 22,
   "metadata": {
    "collapsed": true
   },
   "outputs": [],
   "source": [
    "eddie_df.to_csv('e.csv', encoding='utf-8', columns=['email'])"
   ]
  },
  {
   "cell_type": "code",
   "execution_count": null,
   "metadata": {
    "collapsed": true
   },
   "outputs": [],
   "source": []
  },
  {
   "cell_type": "code",
   "execution_count": null,
   "metadata": {
    "collapsed": true
   },
   "outputs": [],
   "source": []
  },
  {
   "cell_type": "code",
   "execution_count": null,
   "metadata": {
    "collapsed": true
   },
   "outputs": [],
   "source": []
  },
  {
   "cell_type": "code",
   "execution_count": null,
   "metadata": {
    "collapsed": true
   },
   "outputs": [],
   "source": []
  },
  {
   "cell_type": "code",
   "execution_count": null,
   "metadata": {
    "collapsed": true
   },
   "outputs": [],
   "source": []
  },
  {
   "cell_type": "code",
   "execution_count": null,
   "metadata": {
    "collapsed": true
   },
   "outputs": [],
   "source": []
  },
  {
   "cell_type": "code",
   "execution_count": null,
   "metadata": {
    "collapsed": true
   },
   "outputs": [],
   "source": []
  }
 ],
 "metadata": {
  "kernelspec": {
   "display_name": "Python 3",
   "language": "python",
   "name": "python3"
  },
  "language_info": {
   "codemirror_mode": {
    "name": "ipython",
    "version": 3
   },
   "file_extension": ".py",
   "mimetype": "text/x-python",
   "name": "python",
   "nbconvert_exporter": "python",
   "pygments_lexer": "ipython3",
   "version": "3.6.0"
  }
 },
 "nbformat": 4,
 "nbformat_minor": 2
}
