{
 "cells": [
  {
   "cell_type": "code",
   "execution_count": 4,
   "metadata": {},
   "outputs": [],
   "source": [
    "import pandas as pd"
   ]
  },
  {
   "cell_type": "code",
   "execution_count": 5,
   "metadata": {},
   "outputs": [],
   "source": [
    "df = pd.read_csv('./kenny.csv')"
   ]
  },
  {
   "cell_type": "code",
   "execution_count": 6,
   "metadata": {},
   "outputs": [
    {
     "data": {
      "text/plain": [
       "array(['First Name', 'Last Name', 'Title', 'Company',\n",
       "       'Company Name for Emails', 'Email', 'Email Status',\n",
       "       'Email Confidence', 'First Phone', 'Work Direct Phone',\n",
       "       'Home Phone', 'Mobile Phone', 'Corporate Phone', 'Other Phone',\n",
       "       'Stage', 'Last Contacted', '# Employees', 'Industry', 'Keywords',\n",
       "       'Person Linkedin Url', 'Website', 'Company Linkedin Url',\n",
       "       'Facebook Url', 'Twitter Url', 'City', 'State', 'Country',\n",
       "       'Company Address', 'Company City', 'Company State',\n",
       "       'Company Country', 'Company Phone', 'SEO Description',\n",
       "       'Technologies', 'Annual Revenue', 'Email Sent', 'Email Open',\n",
       "       'Email Bounced', 'Replied', 'Demoed', 'Number of Retail Locations',\n",
       "       'conversational_title_plural', 'supernova_personalization',\n",
       "       'supernova_personalization.1', 'market_description_natural',\n",
       "       'sales_team', 'company_URL', 'client_statement', 'Salesforce ID'],\n",
       "      dtype=object)"
      ]
     },
     "execution_count": 6,
     "metadata": {},
     "output_type": "execute_result"
    }
   ],
   "source": [
    "df.columns.values"
   ]
  },
  {
   "cell_type": "code",
   "execution_count": 13,
   "metadata": {},
   "outputs": [
    {
     "data": {
      "text/plain": [
       "498"
      ]
     },
     "execution_count": 13,
     "metadata": {},
     "output_type": "execute_result"
    }
   ],
   "source": [
    "len(df)"
   ]
  },
  {
   "cell_type": "code",
   "execution_count": 17,
   "metadata": {},
   "outputs": [
    {
     "data": {
      "text/plain": [
       "Extrapolated    277\n",
       "Verified        185\n",
       "Verifying        34\n",
       "Unavailable       2\n",
       "Name: Email Status, dtype: int64"
      ]
     },
     "execution_count": 17,
     "metadata": {},
     "output_type": "execute_result"
    }
   ],
   "source": [
    "df['Email Status'].value_counts()"
   ]
  },
  {
   "cell_type": "code",
   "execution_count": 18,
   "metadata": {},
   "outputs": [
    {
     "data": {
      "text/plain": [
       "462"
      ]
     },
     "execution_count": 18,
     "metadata": {},
     "output_type": "execute_result"
    }
   ],
   "source": [
    "df = df[df.Email.notnull()]\n",
    "len(df)"
   ]
  },
  {
   "cell_type": "code",
   "execution_count": 19,
   "metadata": {},
   "outputs": [
    {
     "data": {
      "text/plain": [
       "Extrapolated    277\n",
       "Verified        185\n",
       "Name: Email Status, dtype: int64"
      ]
     },
     "execution_count": 19,
     "metadata": {},
     "output_type": "execute_result"
    }
   ],
   "source": [
    "df['Email Status'].value_counts()"
   ]
  },
  {
   "cell_type": "code",
   "execution_count": 20,
   "metadata": {},
   "outputs": [],
   "source": [
    "def hunter(email):\n",
    "    try:\n",
    "        url = \"https://api.hunter.io/v2/email-verifier?email={}&api_key=ff945f073f8161187ecc04c00a8596fde86064ad\".format(email)\n",
    "        r = requests.get(url)\n",
    "        return r.json()['data']\n",
    "    except:\n",
    "        return 'bad'\n",
    "\n",
    "df['hunter_verified'] = df.Email.apply(hunter)"
   ]
  },
  {
   "cell_type": "code",
   "execution_count": null,
   "metadata": {},
   "outputs": [],
   "source": []
  },
  {
   "cell_type": "code",
   "execution_count": null,
   "metadata": {},
   "outputs": [],
   "source": []
  },
  {
   "cell_type": "code",
   "execution_count": null,
   "metadata": {},
   "outputs": [],
   "source": []
  },
  {
   "cell_type": "code",
   "execution_count": null,
   "metadata": {},
   "outputs": [],
   "source": [
    "def hunter(email):\n",
    "    try:\n",
    "        url = \"https://api.hunter.io/v2/email-verifier?email={}&api_key=ff945f073f8161187ecc04c00a8596fde86064ad\".format(email)\n",
    "        r = requests.get(url)\n",
    "        return r.json()['data']\n",
    "    except:\n",
    "        return 'bad'\n",
    "\n",
    "df['hunter_verified'] = df.Email.apply(hunter)"
   ]
  },
  {
   "cell_type": "code",
   "execution_count": 56,
   "metadata": {},
   "outputs": [
    {
     "data": {
      "text/plain": [
       "{'result': 'deliverable',\n",
       " 'score': 100,\n",
       " 'email': 'steli@close.io',\n",
       " 'regexp': True,\n",
       " 'gibberish': False,\n",
       " 'disposable': False,\n",
       " 'webmail': False,\n",
       " 'mx_records': True,\n",
       " 'smtp_server': True,\n",
       " 'smtp_check': True,\n",
       " 'accept_all': False,\n",
       " 'sources': [{'domain': 'blog.close.io',\n",
       "   'uri': 'http://blog.close.io/b2b-cold-email-online-crash-course',\n",
       "   'extracted_on': '2017-09-04',\n",
       "   'last_seen_on': '2018-04-17',\n",
       "   'still_on_page': True},\n",
       "  {'domain': 'blog.close.io',\n",
       "   'uri': 'http://blog.close.io/inbound-sales-kung-fu-webinar',\n",
       "   'extracted_on': '2017-09-01',\n",
       "   'last_seen_on': '2018-04-14',\n",
       "   'still_on_page': True},\n",
       "  {'domain': 'blog.close.io',\n",
       "   'uri': 'http://blog.close.io/pioneers-2015',\n",
       "   'extracted_on': '2017-09-01',\n",
       "   'last_seen_on': '2018-05-09',\n",
       "   'still_on_page': True},\n",
       "  {'domain': 'gruenderszene.de',\n",
       "   'uri': 'http://gruenderszene.de/allgemein/silicon-valley-erfolg',\n",
       "   'extracted_on': '2017-09-01',\n",
       "   'last_seen_on': '2018-06-04',\n",
       "   'still_on_page': True},\n",
       "  {'domain': 'thestartupchat.com',\n",
       "   'uri': 'http://thestartupchat.com/ep098',\n",
       "   'extracted_on': '2017-08-01',\n",
       "   'last_seen_on': '2018-04-17',\n",
       "   'still_on_page': True},\n",
       "  {'domain': 'thestartupchat.com',\n",
       "   'uri': 'http://thestartupchat.com/ep180',\n",
       "   'extracted_on': '2017-08-01',\n",
       "   'last_seen_on': '2018-04-15',\n",
       "   'still_on_page': True},\n",
       "  {'domain': 'gainbits.com',\n",
       "   'uri': 'http://gainbits.com/marketers-can-learn-salespeople-featuring-steli-efti-close-io',\n",
       "   'extracted_on': '2017-07-26',\n",
       "   'last_seen_on': '2018-06-04',\n",
       "   'still_on_page': True},\n",
       "  {'domain': 'pivotaltracker.com',\n",
       "   'uri': 'http://pivotaltracker.com/blog/learning-to-say-no',\n",
       "   'extracted_on': '2017-07-21',\n",
       "   'last_seen_on': '2018-04-09',\n",
       "   'still_on_page': True},\n",
       "  {'domain': 'businessofsoftware.org',\n",
       "   'uri': 'http://businessofsoftware.org/2016/02/the-art-of-selling-software-bos-usa-2015-close-io',\n",
       "   'extracted_on': '2017-07-18',\n",
       "   'last_seen_on': '2018-06-08',\n",
       "   'still_on_page': True},\n",
       "  {'domain': 'api.hunter.io',\n",
       "   'uri': 'http://api.hunter.io/api/v2/docs',\n",
       "   'extracted_on': '2017-07-02',\n",
       "   'last_seen_on': '2018-04-15',\n",
       "   'still_on_page': True},\n",
       "  {'domain': 'hunter.io',\n",
       "   'uri': 'http://hunter.io/api',\n",
       "   'extracted_on': '2017-06-25',\n",
       "   'last_seen_on': '2018-06-05',\n",
       "   'still_on_page': True},\n",
       "  {'domain': 'hunter.io',\n",
       "   'uri': 'http://hunter.io/api/v2/docs',\n",
       "   'extracted_on': '2017-06-25',\n",
       "   'last_seen_on': '2018-05-15',\n",
       "   'still_on_page': True},\n",
       "  {'domain': 'enova.pivotaltracker.com',\n",
       "   'uri': 'http://enova.pivotaltracker.com/blog/learning-to-say-no',\n",
       "   'extracted_on': '2017-06-01',\n",
       "   'last_seen_on': '2018-04-30',\n",
       "   'still_on_page': True},\n",
       "  {'domain': 'emailhunter.co',\n",
       "   'uri': 'http://emailhunter.co/api/docs',\n",
       "   'extracted_on': '2017-05-25',\n",
       "   'last_seen_on': '2018-04-17',\n",
       "   'still_on_page': True},\n",
       "  {'domain': 'mixergy.com',\n",
       "   'uri': 'http://mixergy.com/premium/page/3',\n",
       "   'extracted_on': '2017-05-18',\n",
       "   'last_seen_on': '2018-06-08',\n",
       "   'still_on_page': True},\n",
       "  {'domain': 'weirdentrepreneurs.com',\n",
       "   'uri': 'http://weirdentrepreneurs.com/podcast/steli-efti',\n",
       "   'extracted_on': '2017-01-17',\n",
       "   'last_seen_on': '2018-06-04',\n",
       "   'still_on_page': True},\n",
       "  {'domain': 'mixergy.com',\n",
       "   'uri': 'http://mixergy.com/premium/page/6',\n",
       "   'extracted_on': '2016-10-04',\n",
       "   'last_seen_on': '2018-03-31',\n",
       "   'still_on_page': True},\n",
       "  {'domain': 'eofire.com',\n",
       "   'uri': 'http://eofire.com/podcast/steliefti',\n",
       "   'extracted_on': '2016-03-25',\n",
       "   'last_seen_on': '2018-04-16',\n",
       "   'still_on_page': True},\n",
       "  {'domain': 'developer.close.io',\n",
       "   'uri': 'http://developer.close.io',\n",
       "   'extracted_on': '2016-03-24',\n",
       "   'last_seen_on': '2018-06-05',\n",
       "   'still_on_page': True},\n",
       "  {'domain': 'theheureka.com',\n",
       "   'uri': 'http://theheureka.com/moving-to-silicon-valley',\n",
       "   'extracted_on': '2016-03-03',\n",
       "   'last_seen_on': '2018-05-06',\n",
       "   'still_on_page': True},\n",
       "  {'domain': 'kalzumeus.com',\n",
       "   'uri': 'http://kalzumeus.com/2014/07/24/kalzumeus-podcast-episode-8-high-touch-software-sales-with-steli-efti',\n",
       "   'extracted_on': '2015-02-01',\n",
       "   'last_seen_on': '2018-06-04',\n",
       "   'still_on_page': True},\n",
       "  {'domain': 'blog.99sales.de',\n",
       "   'uri': 'http://blog.99sales.de/interview-steli-efti-close-io-4',\n",
       "   'extracted_on': '2017-09-05',\n",
       "   'last_seen_on': '2018-03-07',\n",
       "   'still_on_page': False},\n",
       "  {'domain': 'blog.99sales.de',\n",
       "   'uri': 'http://blog.99sales.de/interview-steli-efti-close.io-4',\n",
       "   'extracted_on': '2017-09-05',\n",
       "   'last_seen_on': '2018-01-17',\n",
       "   'still_on_page': False},\n",
       "  {'domain': 'api.hunter.io',\n",
       "   'uri': 'http://api.hunter.io/api',\n",
       "   'extracted_on': '2017-07-03',\n",
       "   'last_seen_on': '2018-01-15',\n",
       "   'still_on_page': False},\n",
       "  {'domain': 'peakmarketer.com',\n",
       "   'uri': 'http://peakmarketer.com/podcast/steli-efti',\n",
       "   'extracted_on': '2016-10-03',\n",
       "   'last_seen_on': '2017-03-22',\n",
       "   'still_on_page': False},\n",
       "  {'domain': 'growtheverywhere.com',\n",
       "   'uri': 'http://growtheverywhere.com/feed',\n",
       "   'extracted_on': '2016-03-24',\n",
       "   'last_seen_on': '2016-03-27',\n",
       "   'still_on_page': False},\n",
       "  {'domain': 'eofire.com',\n",
       "   'uri': 'http://eofire.com/podcast/steliefti/',\n",
       "   'extracted_on': '2015-12-30',\n",
       "   'last_seen_on': '2018-01-16',\n",
       "   'still_on_page': False},\n",
       "  {'domain': 'saleslist.co',\n",
       "   'uri': 'http://saleslist.co/posts/cold-calling-how-to-respond-to-i-don-t-have-time/visit',\n",
       "   'extracted_on': '2015-11-25',\n",
       "   'last_seen_on': '2016-06-20',\n",
       "   'still_on_page': False},\n",
       "  {'domain': '1net.az',\n",
       "   'uri': 'http://1net.az/startup-i-silicon-valley-%c9%99-kocurtm%c9%99misd%c9%99n-onc%c9%99-atmali-8-addim/',\n",
       "   'extracted_on': '2015-11-07',\n",
       "   'last_seen_on': '2016-03-27',\n",
       "   'still_on_page': False},\n",
       "  {'domain': 'blog.close.io',\n",
       "   'uri': 'http://blog.close.io/startup-sales-negotiations-101-the-pair-negotiation-tactic',\n",
       "   'extracted_on': '2015-07-02',\n",
       "   'last_seen_on': '2017-01-20',\n",
       "   'still_on_page': False}]}"
      ]
     },
     "execution_count": 56,
     "metadata": {},
     "output_type": "execute_result"
    }
   ],
   "source": [
    "url = \"https://api.hunter.io/v2/email-verifier?email=steli@close.io&api_key=ff945f073f8161187ecc04c00a8596fde86064ad\"\n",
    "import requests\n",
    "\n",
    "r = requests.get(url)\n",
    "r.json()['data']\n"
   ]
  },
  {
   "cell_type": "code",
   "execution_count": 25,
   "metadata": {},
   "outputs": [],
   "source": [
    "dfnyc_min30 = df[ (df[\"City\"] == \"New York\") & (df['# Employees'] < 30) ]"
   ]
  },
  {
   "cell_type": "code",
   "execution_count": null,
   "metadata": {},
   "outputs": [],
   "source": [
    "df[df['Email Status'] == \"Verified\"]"
   ]
  },
  {
   "cell_type": "code",
   "execution_count": null,
   "metadata": {},
   "outputs": [],
   "source": [
    "df.City == df[\"City\"]"
   ]
  },
  {
   "cell_type": "code",
   "execution_count": 35,
   "metadata": {},
   "outputs": [],
   "source": [
    "def extract_domain(foo):\n",
    "    if \"www.\" in foo:\n",
    "        return foo.split(\"www.\")[1]\n",
    "    else:\n",
    "        return foo\n",
    "\n",
    "\n",
    "df['domain'] = df[\"Website\"].apply(extract_domain)"
   ]
  },
  {
   "cell_type": "code",
   "execution_count": 36,
   "metadata": {},
   "outputs": [
    {
     "ename": "AttributeError",
     "evalue": "domain",
     "output_type": "error",
     "traceback": [
      "\u001b[0;31m---------------------------------------------------------------------------\u001b[0m",
      "\u001b[0;31mAttributeError\u001b[0m                            Traceback (most recent call last)",
      "\u001b[0;32m<ipython-input-36-1bbf45df81cf>\u001b[0m in \u001b[0;36m<module>\u001b[0;34m()\u001b[0m\n\u001b[0;32m----> 1\u001b[0;31m \u001b[0;32mdel\u001b[0m \u001b[0mdf\u001b[0m\u001b[0;34m.\u001b[0m\u001b[0mdomain\u001b[0m\u001b[0;34m\u001b[0m\u001b[0m\n\u001b[0m",
      "\u001b[0;31mAttributeError\u001b[0m: domain"
     ]
    }
   ],
   "source": [
    "import requests\n",
    "\n",
    "r = requests.get(\"https://api.hunter.io/v2/domain-search?domain=royalstarrresort.com&api_key=ff945f073f8161187ecc04c00a8596fde86064ad\")"
   ]
  },
  {
   "cell_type": "code",
   "execution_count": 3,
   "metadata": {},
   "outputs": [],
   "source": [
    "# exploring csv\n",
    "# slicing df\n",
    "# applying functions to columns\n",
    "# gspread \n",
    "# hunter api"
   ]
  },
  {
   "cell_type": "code",
   "execution_count": 4,
   "metadata": {},
   "outputs": [
    {
     "data": {
      "text/plain": [
       "array(['First Name', 'Last Name', 'Title', 'Company',\n",
       "       'Company Name for Emails', 'Email', 'Email Status',\n",
       "       'Email Confidence', 'First Phone', 'Work Direct Phone',\n",
       "       'Home Phone', 'Mobile Phone', 'Corporate Phone', 'Other Phone',\n",
       "       'Stage', 'Lists', 'Last Contacted', '# Employees', 'Industry',\n",
       "       'Keywords', 'Person Linkedin Url', 'Website',\n",
       "       'Company Linkedin Url', 'Facebook Url', 'Twitter Url', 'City',\n",
       "       'State', 'Country', 'Company Address', 'Company City',\n",
       "       'Company State', 'Company Country', 'Company Phone',\n",
       "       'SEO Description', 'Technologies', 'Annual Revenue', 'Email Sent',\n",
       "       'Email Open', 'Email Bounced', 'Replied', 'Demoed',\n",
       "       'Number of Retail Locations', 'ZP Contact Id', 'ZP Account Id',\n",
       "       'conversational_title_plural', 'Salesforce ID'], dtype=object)"
      ]
     },
     "execution_count": 4,
     "metadata": {},
     "output_type": "execute_result"
    }
   ],
   "source": [
    "df.columns.values"
   ]
  },
  {
   "cell_type": "code",
   "execution_count": 12,
   "metadata": {},
   "outputs": [
    {
     "data": {
      "text/plain": [
       "count    1049.000000\n",
       "mean       35.408008\n",
       "std       196.548902\n",
       "min         2.000000\n",
       "25%        15.000000\n",
       "50%        25.000000\n",
       "75%        36.000000\n",
       "max      6100.000000\n",
       "Name: # Employees, dtype: float64"
      ]
     },
     "execution_count": 12,
     "metadata": {},
     "output_type": "execute_result"
    }
   ],
   "source": [
    "df[\"# Employees\"].describe()"
   ]
  },
  {
   "cell_type": "code",
   "execution_count": 14,
   "metadata": {},
   "outputs": [],
   "source": [
    "df = df[ df['# Employees'] < 30  ]"
   ]
  },
  {
   "cell_type": "code",
   "execution_count": 16,
   "metadata": {},
   "outputs": [
    {
     "data": {
      "text/plain": [
       "count    695.000000\n",
       "mean      18.844604\n",
       "std        5.991495\n",
       "min        2.000000\n",
       "25%       13.000000\n",
       "50%       18.000000\n",
       "75%       24.000000\n",
       "max       29.000000\n",
       "Name: # Employees, dtype: float64"
      ]
     },
     "execution_count": 16,
     "metadata": {},
     "output_type": "execute_result"
    }
   ],
   "source": [
    "df['# Employees'].describe()"
   ]
  },
  {
   "cell_type": "code",
   "execution_count": 17,
   "metadata": {},
   "outputs": [
    {
     "data": {
      "text/plain": [
       "New York           73\n",
       "Toronto            50\n",
       "San Francisco      40\n",
       "Chicago            31\n",
       "Los Angeles        25\n",
       "Montreal           17\n",
       "San Diego          16\n",
       "Atlanta            15\n",
       "Vancouver          13\n",
       "Washington         13\n",
       "Austin             12\n",
       "Minneapolis        12\n",
       "Boston             11\n",
       "Houston            11\n",
       "Denver             11\n",
       "Seattle            10\n",
       "Fort Lauderdale     9\n",
       "Portland            9\n",
       "Philadelphia        8\n",
       "Salt Lake City      8\n",
       "Baltimore           7\n",
       "Nashville           7\n",
       "Fort Worth          6\n",
       "St. Louis           6\n",
       "Indianapolis        6\n",
       "Orlando             6\n",
       "Tampa               5\n",
       "Sacramento          5\n",
       "Milwaukee           5\n",
       "San Antonio         5\n",
       "                   ..\n",
       "Edmonton            1\n",
       "Chattanooga         1\n",
       "Akron               1\n",
       "Tucson              1\n",
       "Lethbridge          1\n",
       "Honolulu            1\n",
       "London              1\n",
       "Ithaca              1\n",
       "Boulder             1\n",
       "Springfield         1\n",
       "Winston-Salem       1\n",
       "Murrells Inlet      1\n",
       "Golden              1\n",
       "Toledo              1\n",
       "Canton              1\n",
       "Temple              1\n",
       "Montverde           1\n",
       "Frisco              1\n",
       "Aliso Viejo         1\n",
       "Bellingham          1\n",
       "Oceanside           1\n",
       "San Jose            1\n",
       "Reno                1\n",
       "Markham             1\n",
       "Eugene              1\n",
       "Hartford            1\n",
       "San Marcos          1\n",
       "Bristol             1\n",
       "Miami Beach         1\n",
       "Kalamazoo           1\n",
       "Name: City, Length: 175, dtype: int64"
      ]
     },
     "execution_count": 17,
     "metadata": {},
     "output_type": "execute_result"
    }
   ],
   "source": [
    "# df['City'].value_counts()"
   ]
  },
  {
   "cell_type": "code",
   "execution_count": 19,
   "metadata": {},
   "outputs": [
    {
     "data": {
      "text/plain": [
       "pandas.core.series.Series"
      ]
     },
     "execution_count": 19,
     "metadata": {},
     "output_type": "execute_result"
    }
   ],
   "source": [
    "type(df.City)"
   ]
  },
  {
   "cell_type": "code",
   "execution_count": 21,
   "metadata": {},
   "outputs": [
    {
     "data": {
      "text/plain": [
       "list"
      ]
     },
     "execution_count": 21,
     "metadata": {},
     "output_type": "execute_result"
    }
   ],
   "source": [
    "type(df.City.tolist())"
   ]
  },
  {
   "cell_type": "code",
   "execution_count": null,
   "metadata": {},
   "outputs": [],
   "source": []
  }
 ],
 "metadata": {
  "kernelspec": {
   "display_name": "Python 3",
   "language": "python",
   "name": "python3"
  },
  "language_info": {
   "codemirror_mode": {
    "name": "ipython",
    "version": 3
   },
   "file_extension": ".py",
   "mimetype": "text/x-python",
   "name": "python",
   "nbconvert_exporter": "python",
   "pygments_lexer": "ipython3",
   "version": "3.6.5"
  }
 },
 "nbformat": 4,
 "nbformat_minor": 2
}
