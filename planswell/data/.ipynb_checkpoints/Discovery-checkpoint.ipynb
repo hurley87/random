{
 "cells": [
  {
   "cell_type": "code",
   "execution_count": 156,
   "metadata": {
    "collapsed": true
   },
   "outputs": [],
   "source": [
    "import pandas as pd\n",
    "import numpy as np\n",
    "import matplotlib\n",
    "import matplotlib.pyplot as plt"
   ]
  },
  {
   "cell_type": "code",
   "execution_count": null,
   "metadata": {
    "collapsed": true
   },
   "outputs": [],
   "source": []
  },
  {
   "cell_type": "code",
   "execution_count": 178,
   "metadata": {
    "collapsed": false
   },
   "outputs": [
    {
     "data": {
      "text/plain": [
       "87"
      ]
     },
     "execution_count": 178,
     "metadata": {},
     "output_type": "execute_result"
    }
   ],
   "source": [
    "# each day we do a CSV dump from Survey Gizmo\n",
    "df = pd.read_csv('may3.csv', header=0)\n",
    "# print out headers and manually remove columns that are unneccessary for this analysis\n",
    "column_names = list(df.columns.values)\n",
    "use_cols = [\n",
    " 'Time Started',\n",
    " 'Date Submitted',\n",
    " 'City',\n",
    " 'State/Region',\n",
    " 'ref',\n",
    " 'retirementAge',\n",
    " 'retirementAgeTime',\n",
    " 'currentAge',\n",
    " 'currentAgeTime',\n",
    " 'firstName',\n",
    " 'firstNameTime',\n",
    " 'email',\n",
    " 'emailTime',\n",
    " 'phone',\n",
    " 'phoneTime',\n",
    " 'timeToPhone',\n",
    " 'hasSpouse',\n",
    " 'spouseTime',\n",
    " 'spouseName',\n",
    " 'spouseNameTime',\n",
    " 'spouseAge',\n",
    " 'spouseAgeTime',\n",
    " 'spouseRetirementAge',\n",
    " 'spouseRetirementAgeTime',\n",
    " 'spouseIncome',\n",
    " 'spouseIncomeTime',\n",
    " 'spouseTfsa:spouseAccountValues',\n",
    " 'spouseRrsp:spouseAccountValues',\n",
    " 'spouseRif:spouseAccountValues',\n",
    " 'spouseAllOthers:spouseAccountValues',\n",
    " 'spouseAccountValuesTime',\n",
    " 'spouseIncomeSourcesTime',\n",
    " 'spouseRetirementIncome',\n",
    " 'spouseRetirementIncomeTime',\n",
    " 'annualIncome',\n",
    " 'annualIncomeTime',\n",
    " 'Tax Free Savings Account (TFSA):accountsValue',\n",
    " 'Registered Retirement Savings Plan (RRSP):accountsValue',\n",
    " 'Registered Education Savings Plan  (RESP):accountsValue',\n",
    " 'Other savings and investments:accountsValue',\n",
    " 'accountsValueTime',\n",
    " 'tfsa',\n",
    " 'tfsaTime',\n",
    " 'rrsp',\n",
    " 'rrspTime',\n",
    " 'resp',\n",
    " 'respTime',\n",
    " 'otherAccounts',\n",
    " 'otherAccountsTime',\n",
    " 'Do you expect to earn any income in retirement?',\n",
    " 'annualRetirementIncome',\n",
    " 'retirementIncomeTime',\n",
    " 'additionalIncome:monthlySavings',\n",
    " 'monthySavingsTime',\n",
    " 'monthlySavings',\n",
    " 'spouseAdditionalIncome:spouseMonthlySavings',\n",
    " 'spouseMonthlySavingsTime',\n",
    " 'spouseMonthlySavings',\n",
    " 'renting',\n",
    " 'rentOwnTime',\n",
    " 'homeWorth',\n",
    " 'homeWorthTime',\n",
    " 'mortgageLeft',\n",
    " 'mortgageLeftTime',\n",
    " 'mortgagePayment',\n",
    " 'mortgagePaymentTime',\n",
    " 'monthlyRent',\n",
    " 'rentTime',\n",
    " 'sellHouseInRetirement',\n",
    " 'sellHouseInRetirementTime',\n",
    " 'rentInRetirement',\n",
    " 'rentInRetirementTime',\n",
    " 'buyInRetirement',\n",
    " 'buyInRetirementTime',\n",
    " 'hasChildren',\n",
    " 'childLength',\n",
    " 'kidsTime',\n",
    " 'investmentsFell',\n",
    " 'investmentsFellTime',\n",
    " 'investmentLength',\n",
    " 'investmentLengthTime',\n",
    " 'etfFamiliarity',\n",
    " 'etfTime',\n",
    " 'spouseInvesting',\n",
    " 'spouseInvestingTime',\n",
    " 'debt',\n",
    " 'Credit Card:debtBalances',\n",
    " 'Cottage / Recreation property:debtBalances',\n",
    " 'Line of credit:debtBalances',\n",
    " 'Car:debtBalances',\n",
    " 'Other (personal loan, student loan, etc.):debtBalances',\n",
    " 'debtTime',\n",
    " 'creditCardPayment',\n",
    " 'creditCardBalance',\n",
    " 'cottagePayment',\n",
    " 'cottageBalance',\n",
    " 'lineOfCreditPayment',\n",
    " 'lineOfCreditBalance',\n",
    " 'carPayment',\n",
    " 'carBalance',\n",
    " 'otherDebtPayment',\n",
    " 'otherDebtBalance',\n",
    " 'sex',\n",
    " 'sexTime',\n",
    " 'spouseSex',\n",
    " 'spouseSexTime',\n",
    " 'smoke',\n",
    " 'smokingTime',\n",
    " 'spouseSmoke',\n",
    " 'spouseSmokingTime',\n",
    " 'province',\n",
    " 'provinceTime']\n",
    "\n",
    "df = pd.read_csv('may2.csv', header=0, usecols=use_cols)\n",
    "df[df.province.notnull()]\n",
    "df.province.count()"
   ]
  },
  {
   "cell_type": "code",
   "execution_count": 179,
   "metadata": {
    "collapsed": false
   },
   "outputs": [],
   "source": [
    "key_questions = [\n",
    " 'retirementAge',\n",
    " 'currentAge',\n",
    " 'firstName',\n",
    " 'email',\n",
    " 'phone',\n",
    " 'hasSpouse',\n",
    " 'annualIncome',\n",
    " 'Do you expect to earn any income in retirement?',\n",
    " 'renting',\n",
    " 'hasChildren',\n",
    " 'investmentsFell',\n",
    " 'investmentLength',\n",
    " 'etfFamiliarity',\n",
    " 'debt',\n",
    " 'sex',\n",
    " 'smoke',\n",
    " 'province']"
   ]
  },
  {
   "cell_type": "code",
   "execution_count": 180,
   "metadata": {
    "collapsed": true
   },
   "outputs": [],
   "source": [
    "# use this list to analyze how long it takes users to answer key questions\n",
    "key_questions_time = [\n",
    " 'retirementAgeTime',\n",
    " 'currentAgeTime',\n",
    " 'firstNameTime',\n",
    " 'emailTime',\n",
    " 'phoneTime',\n",
    " 'spouseTime',\n",
    " 'annualIncomeTime',\n",
    " 'retirementIncomeTime',\n",
    " 'rentTime',\n",
    " 'kidsTime',\n",
    " 'investmentsFellTime',\n",
    " 'investmentLengthTime',\n",
    " 'etfTime',\n",
    " 'debtTime',\n",
    " 'sexTime',\n",
    " 'smokingTime',\n",
    " 'provinceTime']"
   ]
  },
  {
   "cell_type": "code",
   "execution_count": 181,
   "metadata": {
    "collapsed": false
   },
   "outputs": [
    {
     "name": "stdout",
     "output_type": "stream",
     "text": [
      "retirementAge\n",
      "count: 555, conversion: 90%, Avg Time spent: 109.14594594594594\n",
      "currentAge\n",
      "count: 519, conversion: 94%, Avg Time spent: 24.517241379310345\n",
      "firstName\n",
      "count: 451, conversion: 87%, Avg Time spent: 211.7008733624454\n",
      "email\n",
      "count: 213, conversion: 47%, Avg Time spent: 139.084388185654\n",
      "phone\n",
      "count: 156, conversion: 73%, Avg Time spent: 23.70414201183432\n",
      "hasSpouse\n",
      "count: 156, conversion: 100%, Avg Time spent: 6.884615384615385\n",
      "annualIncome\n",
      "count: 117, conversion: 75%, Avg Time spent: 18.65546218487395\n",
      "Do you expect to earn any income in retirement?\n",
      "count: 103, conversion: 88%, Avg Time spent: 11.922330097087379\n",
      "renting\n",
      "count: 100, conversion: 97%, Avg Time spent: 8.439024390243903\n",
      "hasChildren\n",
      "count: 99, conversion: 99%, Avg Time spent: 8.969696969696969\n",
      "investmentsFell\n",
      "count: 95, conversion: 96%, Avg Time spent: 16.958333333333332\n",
      "investmentLength\n",
      "count: 94, conversion: 99%, Avg Time spent: 7.4361702127659575\n",
      "etfFamiliarity\n",
      "count: 89, conversion: 95%, Avg Time spent: 57.77173913043478\n",
      "debt\n",
      "count: 88, conversion: 99%, Avg Time spent: 10.068181818181818\n",
      "sex\n",
      "count: 87, conversion: 99%, Avg Time spent: 3.5632183908045976\n",
      "smoke\n",
      "count: 87, conversion: 100%, Avg Time spent: 3.4367816091954024\n",
      "province\n",
      "count: 87, conversion: 100%, Avg Time spent: 3.4367816091954024\n"
     ]
    }
   ],
   "source": [
    "# for each key question print out how many people gave an answer\n",
    "# this gives an idea of the funnel\n",
    "index = 0\n",
    "questions_length = len(key_questions)\n",
    "for question in key_questions:\n",
    "    current_question_count = df[question].count()\n",
    "\n",
    "    if index == 0:\n",
    "        print(question)\n",
    "        print( \"count: {}, conversion: {}, Avg Time spent: {}\".format(current_question_count, '90%', df['retirementAge'].mean()))\n",
    "    else:\n",
    "        previous_index = index - 1\n",
    "        previous_question = key_questions[previous_index]\n",
    "        previous_question_count = df[previous_question].count()\n",
    "        conversion = (previous_question_count - current_question_count) / previous_question_count\n",
    "        average_time_spent = df[key_questions_time[index]].mean()\n",
    "        print(question)\n",
    "        print( \"count: {}, conversion: {}, Avg Time spent: {}\".format(current_question_count, \"{:.0%}\".format(1 - conversion), df[key_questions_time[index]].mean()))\n",
    "    if index < questions_length - 2:\n",
    "        index += 1"
   ]
  },
  {
   "cell_type": "code",
   "execution_count": 182,
   "metadata": {
    "collapsed": false
   },
   "outputs": [
    {
     "data": {
      "text/plain": [
       "count     555.000000\n",
       "mean      109.145946\n",
       "std       534.481704\n",
       "min         6.000000\n",
       "25%        60.000000\n",
       "50%        65.000000\n",
       "75%        65.000000\n",
       "max      6560.000000\n",
       "Name: retirementAge, dtype: float64"
      ]
     },
     "execution_count": 182,
     "metadata": {},
     "output_type": "execute_result"
    }
   ],
   "source": [
    "# take a closer look at the first question\n",
    "df.retirementAge.describe()"
   ]
  },
  {
   "cell_type": "code",
   "execution_count": 183,
   "metadata": {
    "collapsed": false
   },
   "outputs": [
    {
     "name": "stdout",
     "output_type": "stream",
     "text": [
      "0.156756756757\n"
     ]
    }
   ],
   "source": [
    "# conversion rate of the entire form\n",
    "def form_conversion(leads_datatable):\n",
    "    first_question_count = leads_datatable[key_questions[0]].count()\n",
    "    last_question_count = leads_datatable[key_questions[len(key_questions) - 1]].count()\n",
    "    form_conversion = last_question_count / first_question_count\n",
    "    return form_conversion\n",
    "\n",
    "print(form_conversion(df))"
   ]
  },
  {
   "cell_type": "code",
   "execution_count": 184,
   "metadata": {
    "collapsed": false
   },
   "outputs": [
    {
     "data": {
      "text/plain": [
       "count     555.000000\n",
       "mean      109.145946\n",
       "std       534.481704\n",
       "min         6.000000\n",
       "25%        60.000000\n",
       "50%        65.000000\n",
       "75%        65.000000\n",
       "max      6560.000000\n",
       "Name: retirementAge, dtype: float64"
      ]
     },
     "execution_count": 184,
     "metadata": {},
     "output_type": "execute_result"
    }
   ],
   "source": [
    "df.retirementAge.describe()"
   ]
  },
  {
   "cell_type": "code",
   "execution_count": 185,
   "metadata": {
    "collapsed": false
   },
   "outputs": [
    {
     "data": {
      "text/plain": [
       "11797979      540\n",
       "no_utm_tag      6\n",
       "cbc             3\n",
       "sniply          2\n",
       "build           2\n",
       "dh              2\n",
       "v-003           1\n",
       "Name: ref, dtype: int64"
      ]
     },
     "execution_count": 185,
     "metadata": {},
     "output_type": "execute_result"
    }
   ],
   "source": [
    "# plan count by ref code \n",
    "df.ref.value_counts()"
   ]
  },
  {
   "cell_type": "code",
   "execution_count": 186,
   "metadata": {
    "collapsed": false
   },
   "outputs": [
    {
     "data": {
      "text/plain": [
       "['11797979', 'dh', 'v-003', 'build', 'no_utm_tag', 'cbc', 'sniply']"
      ]
     },
     "execution_count": 186,
     "metadata": {},
     "output_type": "execute_result"
    }
   ],
   "source": [
    "ref_codes = list(set(df['ref'].tolist()))\n",
    "ref_codes"
   ]
  },
  {
   "cell_type": "code",
   "execution_count": 166,
   "metadata": {
    "collapsed": false
   },
   "outputs": [
    {
     "name": "stdout",
     "output_type": "stream",
     "text": [
      "11797979: 15%\n",
      "dh: 50%\n",
      "v-003: 0%\n",
      "build: 100%\n",
      "no_utm_tag: 0%\n",
      "cbc: 67%\n",
      "sniply: 50%\n"
     ]
    }
   ],
   "source": [
    "# form conversion for each ref code\n",
    "for ref in ref_codes:\n",
    "    datatable = df[df.ref == ref]\n",
    "    print(\"{}: {:.0%}\".format(ref, form_conversion(datatable)))"
   ]
  },
  {
   "cell_type": "code",
   "execution_count": 167,
   "metadata": {
    "collapsed": false
   },
   "outputs": [
    {
     "data": {
      "text/plain": [
       "0.0        19\n",
       "200.0       8\n",
       "1000.0      7\n",
       "100.0       7\n",
       "500.0       6\n",
       "400.0       5\n",
       "2000.0      5\n",
       "600.0       4\n",
       "50.0        3\n",
       "300.0       3\n",
       "800.0       2\n",
       "700.0       1\n",
       "250.0       1\n",
       "10.0        1\n",
       "120.0       1\n",
       "20000.0     1\n",
       "7000.0      1\n",
       "75.0        1\n",
       "1500.0      1\n",
       "Name: monthlySavings, dtype: int64"
      ]
     },
     "execution_count": 167,
     "metadata": {},
     "output_type": "execute_result"
    }
   ],
   "source": [
    "df.monthlySavings.value_counts()"
   ]
  },
  {
   "cell_type": "code",
   "execution_count": 168,
   "metadata": {
    "collapsed": false
   },
   "outputs": [
    {
     "data": {
      "text/plain": [
       "0.24675324675324675"
      ]
     },
     "execution_count": 168,
     "metadata": {},
     "output_type": "execute_result"
    }
   ],
   "source": [
    "savings_count = df.monthlySavings.count()\n",
    "saving_nothing_count = df[df.monthlySavings == 0].monthlySavings.count()\n",
    "savings_ratio = saving_nothing_count / savings_count\n",
    "savings_ratio"
   ]
  },
  {
   "cell_type": "code",
   "execution_count": null,
   "metadata": {
    "collapsed": true
   },
   "outputs": [],
   "source": []
  },
  {
   "cell_type": "code",
   "execution_count": null,
   "metadata": {
    "collapsed": true
   },
   "outputs": [],
   "source": []
  },
  {
   "cell_type": "code",
   "execution_count": null,
   "metadata": {
    "collapsed": true
   },
   "outputs": [],
   "source": []
  }
 ],
 "metadata": {
  "kernelspec": {
   "display_name": "Python 3",
   "language": "python",
   "name": "python3"
  },
  "language_info": {
   "codemirror_mode": {
    "name": "ipython",
    "version": 3
   },
   "file_extension": ".py",
   "mimetype": "text/x-python",
   "name": "python",
   "nbconvert_exporter": "python",
   "pygments_lexer": "ipython3",
   "version": "3.6.0"
  }
 },
 "nbformat": 4,
 "nbformat_minor": 2
}
