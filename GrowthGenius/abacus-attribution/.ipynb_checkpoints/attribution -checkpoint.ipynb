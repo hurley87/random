{
 "cells": [
  {
   "cell_type": "code",
   "execution_count": 19,
   "metadata": {},
   "outputs": [],
   "source": [
    "import pandas as pd\n",
    "from pipedrive import Pipedrive\n",
    "import json\n",
    "try:\n",
    "    from urllib import urlencode\n",
    "except ImportError:\n",
    "    from urllib.parse import urlencode\n",
    "\n",
    "\n",
    "pipedrive = Pipedrive('06395da8df833c411f231a703d5df4ca28809d87')"
   ]
  },
  {
   "cell_type": "code",
   "execution_count": 67,
   "metadata": {},
   "outputs": [
    {
     "name": "stdout",
     "output_type": "stream",
     "text": [
      "0\n",
      "1\n",
      "500\n",
      "2\n",
      "1000\n",
      "3\n",
      "1500\n",
      "4\n"
     ]
    }
   ],
   "source": [
    "# pull all deals in abacus \n",
    "more_deals = True\n",
    "deal_lists = []\n",
    "new_start = 0\n",
    "\n",
    "while more_deals:\n",
    "    print(new_start)\n",
    "    pipedrive_deals = pipedrive.deals({'status':'all_not_deleted', 'limit': 500, 'start': new_start}, method='GET')\n",
    "    new_deals = pipedrive_deals['data']\n",
    "    deal_dataframe = pd.DataFrame(new_deals)\n",
    "    deal_lists.append(deal_dataframe)\n",
    "    print(len(deal_lists))\n",
    "    more_deals = pipedrive_deals['additional_data']['pagination']['more_items_in_collection']\n",
    "    new_start += 500\n",
    "\n",
    "df = pd.concat(deal_lists)"
   ]
  },
  {
   "cell_type": "code",
   "execution_count": 69,
   "metadata": {},
   "outputs": [
    {
     "data": {
      "text/plain": [
       "open    1133\n",
       "lost     359\n",
       "won       46\n",
       "Name: status, dtype: int64"
      ]
     },
     "execution_count": 69,
     "metadata": {},
     "output_type": "execute_result"
    }
   ],
   "source": [
    "# deal break down\n",
    "df.status.value_counts()"
   ]
  },
  {
   "cell_type": "code",
   "execution_count": 70,
   "metadata": {},
   "outputs": [
    {
     "data": {
      "text/plain": [
       "1179"
      ]
     },
     "execution_count": 70,
     "metadata": {},
     "output_type": "execute_result"
    }
   ],
   "source": [
    "# exclude all agency partner deals\n",
    "df = df[~(df.status == 'lost')]\n",
    "len(df)"
   ]
  },
  {
   "cell_type": "code",
   "execution_count": 74,
   "metadata": {},
   "outputs": [
    {
     "data": {
      "text/plain": [
       "0         959\n",
       "15000      93\n",
       "3000       25\n",
       "10000      22\n",
       "20000      13\n",
       "50000      12\n",
       "80000       7\n",
       "35000       7\n",
       "30000       6\n",
       "25000       5\n",
       "100000      5\n",
       "4800        3\n",
       "40000       3\n",
       "7500        2\n",
       "60000       2\n",
       "45000       2\n",
       "85000       2\n",
       "140000      1\n",
       "5000        1\n",
       "26000       1\n",
       "105000      1\n",
       "21000       1\n",
       "44000       1\n",
       "4500        1\n",
       "31000       1\n",
       "5300        1\n",
       "56000       1\n",
       "55000       1\n",
       "Name: value, dtype: int64"
      ]
     },
     "execution_count": 74,
     "metadata": {},
     "output_type": "execute_result"
    }
   ],
   "source": [
    "# break down of deal value\n",
    "df.value.value_counts()"
   ]
  },
  {
   "cell_type": "code",
   "execution_count": 76,
   "metadata": {},
   "outputs": [
    {
     "data": {
      "text/plain": [
       "220"
      ]
     },
     "execution_count": 76,
     "metadata": {},
     "output_type": "execute_result"
    }
   ],
   "source": [
    "# deals with value\n",
    "df = df[~(df.value == 0)]\n",
    "len(df)"
   ]
  },
  {
   "cell_type": "code",
   "execution_count": 78,
   "metadata": {},
   "outputs": [
    {
     "data": {
      "text/plain": [
       "count       220.000000\n",
       "mean      23555.454545\n",
       "std       23401.975042\n",
       "min        3000.000000\n",
       "25%       13750.000000\n",
       "50%       15000.000000\n",
       "75%       25000.000000\n",
       "max      140000.000000\n",
       "Name: value, dtype: float64"
      ]
     },
     "execution_count": 78,
     "metadata": {},
     "output_type": "execute_result"
    }
   ],
   "source": [
    "# deal statistics\n",
    "df.value.describe()"
   ]
  },
  {
   "cell_type": "code",
   "execution_count": 79,
   "metadata": {},
   "outputs": [
    {
     "data": {
      "text/plain": [
       "2     44\n",
       "5     35\n",
       "19    30\n",
       "6     25\n",
       "24    20\n",
       "4     15\n",
       "23    13\n",
       "1     11\n",
       "25     7\n",
       "22     7\n",
       "3      7\n",
       "26     6\n",
       "Name: stage_id, dtype: int64"
      ]
     },
     "execution_count": 79,
     "metadata": {},
     "output_type": "execute_result"
    }
   ],
   "source": [
    "# how many deals are in each stage\n",
    "df.stage_id.value_counts()"
   ]
  },
  {
   "cell_type": "code",
   "execution_count": 80,
   "metadata": {},
   "outputs": [
    {
     "data": {
      "text/html": [
       "<div>\n",
       "<style scoped>\n",
       "    .dataframe tbody tr th:only-of-type {\n",
       "        vertical-align: middle;\n",
       "    }\n",
       "\n",
       "    .dataframe tbody tr th {\n",
       "        vertical-align: top;\n",
       "    }\n",
       "\n",
       "    .dataframe thead th {\n",
       "        text-align: right;\n",
       "    }\n",
       "</style>\n",
       "<table border=\"1\" class=\"dataframe\">\n",
       "  <thead>\n",
       "    <tr style=\"text-align: right;\">\n",
       "      <th></th>\n",
       "      <th>active_flag</th>\n",
       "      <th>add_time</th>\n",
       "      <th>deal_probability</th>\n",
       "      <th>id</th>\n",
       "      <th>name</th>\n",
       "      <th>order_nr</th>\n",
       "      <th>pipeline_id</th>\n",
       "      <th>pipeline_name</th>\n",
       "      <th>rotten_days</th>\n",
       "      <th>rotten_flag</th>\n",
       "      <th>update_time</th>\n",
       "    </tr>\n",
       "  </thead>\n",
       "  <tbody>\n",
       "    <tr>\n",
       "      <th>0</th>\n",
       "      <td>True</td>\n",
       "      <td>2017-03-28 17:00:38</td>\n",
       "      <td>0</td>\n",
       "      <td>1</td>\n",
       "      <td>New Deal</td>\n",
       "      <td>1</td>\n",
       "      <td>1</td>\n",
       "      <td>Deal Pipeline</td>\n",
       "      <td>None</td>\n",
       "      <td>False</td>\n",
       "      <td>2018-08-20 11:47:36</td>\n",
       "    </tr>\n",
       "    <tr>\n",
       "      <th>1</th>\n",
       "      <td>True</td>\n",
       "      <td>2017-03-28 17:00:38</td>\n",
       "      <td>10</td>\n",
       "      <td>2</td>\n",
       "      <td>Sales Qualified</td>\n",
       "      <td>2</td>\n",
       "      <td>1</td>\n",
       "      <td>Deal Pipeline</td>\n",
       "      <td>None</td>\n",
       "      <td>False</td>\n",
       "      <td>2018-08-20 11:48:15</td>\n",
       "    </tr>\n",
       "    <tr>\n",
       "      <th>2</th>\n",
       "      <td>True</td>\n",
       "      <td>2017-03-28 18:02:33</td>\n",
       "      <td>20</td>\n",
       "      <td>19</td>\n",
       "      <td>Meeting</td>\n",
       "      <td>3</td>\n",
       "      <td>1</td>\n",
       "      <td>Deal Pipeline</td>\n",
       "      <td>None</td>\n",
       "      <td>False</td>\n",
       "      <td>2018-08-20 11:48:23</td>\n",
       "    </tr>\n",
       "    <tr>\n",
       "      <th>3</th>\n",
       "      <td>True</td>\n",
       "      <td>2017-03-28 17:00:38</td>\n",
       "      <td>40</td>\n",
       "      <td>3</td>\n",
       "      <td>Audit Arranged</td>\n",
       "      <td>4</td>\n",
       "      <td>1</td>\n",
       "      <td>Deal Pipeline</td>\n",
       "      <td>None</td>\n",
       "      <td>False</td>\n",
       "      <td>2018-05-11 16:48:24</td>\n",
       "    </tr>\n",
       "    <tr>\n",
       "      <th>4</th>\n",
       "      <td>True</td>\n",
       "      <td>2017-03-28 17:00:38</td>\n",
       "      <td>50</td>\n",
       "      <td>4</td>\n",
       "      <td>Evaluating</td>\n",
       "      <td>5</td>\n",
       "      <td>1</td>\n",
       "      <td>Deal Pipeline</td>\n",
       "      <td>None</td>\n",
       "      <td>False</td>\n",
       "      <td>2018-10-05 15:39:45</td>\n",
       "    </tr>\n",
       "    <tr>\n",
       "      <th>5</th>\n",
       "      <td>True</td>\n",
       "      <td>2017-03-28 17:00:38</td>\n",
       "      <td>60</td>\n",
       "      <td>5</td>\n",
       "      <td>Proposal Sent</td>\n",
       "      <td>6</td>\n",
       "      <td>1</td>\n",
       "      <td>Deal Pipeline</td>\n",
       "      <td>None</td>\n",
       "      <td>False</td>\n",
       "      <td>2018-10-05 15:39:57</td>\n",
       "    </tr>\n",
       "    <tr>\n",
       "      <th>6</th>\n",
       "      <td>True</td>\n",
       "      <td>2017-03-28 17:00:38</td>\n",
       "      <td>70</td>\n",
       "      <td>6</td>\n",
       "      <td>Negotiations Started</td>\n",
       "      <td>8</td>\n",
       "      <td>1</td>\n",
       "      <td>Deal Pipeline</td>\n",
       "      <td>None</td>\n",
       "      <td>False</td>\n",
       "      <td>2018-10-05 15:39:05</td>\n",
       "    </tr>\n",
       "    <tr>\n",
       "      <th>7</th>\n",
       "      <td>True</td>\n",
       "      <td>2018-03-07 13:11:55</td>\n",
       "      <td>0</td>\n",
       "      <td>22</td>\n",
       "      <td>Contacted</td>\n",
       "      <td>1</td>\n",
       "      <td>4</td>\n",
       "      <td>Agency Partners</td>\n",
       "      <td>None</td>\n",
       "      <td>False</td>\n",
       "      <td>2018-05-11 16:52:10</td>\n",
       "    </tr>\n",
       "    <tr>\n",
       "      <th>8</th>\n",
       "      <td>True</td>\n",
       "      <td>2018-03-07 13:12:13</td>\n",
       "      <td>30</td>\n",
       "      <td>23</td>\n",
       "      <td>Meeting set</td>\n",
       "      <td>2</td>\n",
       "      <td>4</td>\n",
       "      <td>Agency Partners</td>\n",
       "      <td>None</td>\n",
       "      <td>False</td>\n",
       "      <td>2018-05-11 16:52:10</td>\n",
       "    </tr>\n",
       "    <tr>\n",
       "      <th>9</th>\n",
       "      <td>True</td>\n",
       "      <td>2018-03-07 13:13:10</td>\n",
       "      <td>50</td>\n",
       "      <td>24</td>\n",
       "      <td>Qualified</td>\n",
       "      <td>3</td>\n",
       "      <td>4</td>\n",
       "      <td>Agency Partners</td>\n",
       "      <td>None</td>\n",
       "      <td>False</td>\n",
       "      <td>2018-05-11 16:52:10</td>\n",
       "    </tr>\n",
       "    <tr>\n",
       "      <th>10</th>\n",
       "      <td>True</td>\n",
       "      <td>2018-03-07 13:13:36</td>\n",
       "      <td>50</td>\n",
       "      <td>25</td>\n",
       "      <td>Referral Agreement Signed</td>\n",
       "      <td>4</td>\n",
       "      <td>4</td>\n",
       "      <td>Agency Partners</td>\n",
       "      <td>None</td>\n",
       "      <td>False</td>\n",
       "      <td>2018-05-11 16:52:10</td>\n",
       "    </tr>\n",
       "    <tr>\n",
       "      <th>11</th>\n",
       "      <td>True</td>\n",
       "      <td>2018-03-07 13:14:11</td>\n",
       "      <td>10</td>\n",
       "      <td>26</td>\n",
       "      <td>Stay in touch</td>\n",
       "      <td>5</td>\n",
       "      <td>4</td>\n",
       "      <td>Agency Partners</td>\n",
       "      <td>None</td>\n",
       "      <td>False</td>\n",
       "      <td>2018-05-11 16:52:20</td>\n",
       "    </tr>\n",
       "  </tbody>\n",
       "</table>\n",
       "</div>"
      ],
      "text/plain": [
       "    active_flag             add_time  deal_probability  id  \\\n",
       "0          True  2017-03-28 17:00:38                 0   1   \n",
       "1          True  2017-03-28 17:00:38                10   2   \n",
       "2          True  2017-03-28 18:02:33                20  19   \n",
       "3          True  2017-03-28 17:00:38                40   3   \n",
       "4          True  2017-03-28 17:00:38                50   4   \n",
       "5          True  2017-03-28 17:00:38                60   5   \n",
       "6          True  2017-03-28 17:00:38                70   6   \n",
       "7          True  2018-03-07 13:11:55                 0  22   \n",
       "8          True  2018-03-07 13:12:13                30  23   \n",
       "9          True  2018-03-07 13:13:10                50  24   \n",
       "10         True  2018-03-07 13:13:36                50  25   \n",
       "11         True  2018-03-07 13:14:11                10  26   \n",
       "\n",
       "                         name  order_nr  pipeline_id    pipeline_name  \\\n",
       "0                    New Deal         1            1    Deal Pipeline   \n",
       "1             Sales Qualified         2            1    Deal Pipeline   \n",
       "2                     Meeting         3            1    Deal Pipeline   \n",
       "3              Audit Arranged         4            1    Deal Pipeline   \n",
       "4                  Evaluating         5            1    Deal Pipeline   \n",
       "5               Proposal Sent         6            1    Deal Pipeline   \n",
       "6        Negotiations Started         8            1    Deal Pipeline   \n",
       "7                   Contacted         1            4  Agency Partners   \n",
       "8                 Meeting set         2            4  Agency Partners   \n",
       "9                   Qualified         3            4  Agency Partners   \n",
       "10  Referral Agreement Signed         4            4  Agency Partners   \n",
       "11              Stay in touch         5            4  Agency Partners   \n",
       "\n",
       "   rotten_days  rotten_flag          update_time  \n",
       "0         None        False  2018-08-20 11:47:36  \n",
       "1         None        False  2018-08-20 11:48:15  \n",
       "2         None        False  2018-08-20 11:48:23  \n",
       "3         None        False  2018-05-11 16:48:24  \n",
       "4         None        False  2018-10-05 15:39:45  \n",
       "5         None        False  2018-10-05 15:39:57  \n",
       "6         None        False  2018-10-05 15:39:05  \n",
       "7         None        False  2018-05-11 16:52:10  \n",
       "8         None        False  2018-05-11 16:52:10  \n",
       "9         None        False  2018-05-11 16:52:10  \n",
       "10        None        False  2018-05-11 16:52:10  \n",
       "11        None        False  2018-05-11 16:52:20  "
      ]
     },
     "execution_count": 80,
     "metadata": {},
     "output_type": "execute_result"
    }
   ],
   "source": [
    "stages = pd.DataFrame(pipedrive.stages({'limit': 500}, method='GET')['data'])\n",
    "stages"
   ]
  },
  {
   "cell_type": "code",
   "execution_count": 84,
   "metadata": {},
   "outputs": [],
   "source": [
    "# create proability of closing column\n",
    "def expected_value(stage_id):\n",
    "    return stages[stages.id == stage_id].iloc[0].deal_probability / 100\n",
    "\n",
    "df['deal_probability'] = df.stage_id.apply(expected_value)"
   ]
  },
  {
   "cell_type": "code",
   "execution_count": 85,
   "metadata": {},
   "outputs": [],
   "source": [
    "# calc expected value for each deal ( probability of closing * deal value)\n",
    "df['expected_value'] = df.value * df.deal_probability"
   ]
  },
  {
   "cell_type": "code",
   "execution_count": 86,
   "metadata": {},
   "outputs": [
    {
     "data": {
      "text/plain": [
       "2047790.0"
      ]
     },
     "execution_count": 86,
     "metadata": {},
     "output_type": "execute_result"
    }
   ],
   "source": [
    "# total pipeline for Abacus\n",
    "df.expected_value.sum()"
   ]
  },
  {
   "cell_type": "code",
   "execution_count": 94,
   "metadata": {},
   "outputs": [],
   "source": [
    "# remove all deals with no expected value\n",
    "df = df[~(df.expected_value == 0)]"
   ]
  },
  {
   "cell_type": "code",
   "execution_count": 95,
   "metadata": {},
   "outputs": [
    {
     "data": {
      "text/plain": [
       "583330.0"
      ]
     },
     "execution_count": 95,
     "metadata": {},
     "output_type": "execute_result"
    }
   ],
   "source": [
    "# total revenue received\n",
    "df[df.status == 'won'].expected_value.sum()"
   ]
  },
  {
   "cell_type": "code",
   "execution_count": 97,
   "metadata": {},
   "outputs": [
    {
     "data": {
      "text/plain": [
       "count       41.000000\n",
       "mean     14227.560976\n",
       "std      20178.288924\n",
       "min        300.000000\n",
       "25%       1800.000000\n",
       "50%       3000.000000\n",
       "75%      17500.000000\n",
       "max      84000.000000\n",
       "Name: expected_value, dtype: float64"
      ]
     },
     "execution_count": 97,
     "metadata": {},
     "output_type": "execute_result"
    }
   ],
   "source": [
    "# revenue breakdown\n",
    "df[(df.status == 'won')].expected_value.describe()"
   ]
  },
  {
   "cell_type": "code",
   "execution_count": 88,
   "metadata": {},
   "outputs": [
    {
     "data": {
      "text/plain": [
       "1464460.0"
      ]
     },
     "execution_count": 88,
     "metadata": {},
     "output_type": "execute_result"
    }
   ],
   "source": [
    "# expected revenue from open deals\n",
    "df[df.status == 'open'].expected_value.sum()"
   ]
  },
  {
   "cell_type": "code",
   "execution_count": 98,
   "metadata": {},
   "outputs": [
    {
     "data": {
      "text/plain": [
       "count      161.000000\n",
       "mean      9096.024845\n",
       "std      11140.179043\n",
       "min        300.000000\n",
       "25%       1500.000000\n",
       "50%       6000.000000\n",
       "75%      10000.000000\n",
       "max      60000.000000\n",
       "Name: expected_value, dtype: float64"
      ]
     },
     "execution_count": 98,
     "metadata": {},
     "output_type": "execute_result"
    }
   ],
   "source": [
    "# expect revenue break down\n",
    "df[(df.status == 'open')].expected_value.describe()"
   ]
  },
  {
   "cell_type": "code",
   "execution_count": 111,
   "metadata": {},
   "outputs": [],
   "source": [
    "def extract_domain(person_id):\n",
    "    try:\n",
    "        email = person_id['email'][0]['value']\n",
    "        if \"@\" in email:\n",
    "            return email.split(\"@\")[1]\n",
    "    except:\n",
    "        print(person_id)\n",
    "\n",
    "df['domain'] = df.person_id.apply(extract_domain)\n",
    "\n",
    "\n",
    "def extract_email(person_id):\n",
    "    try:\n",
    "        return person_id['email'][0]['value']\n",
    "    except:\n",
    "        print(person_id)\n",
    "\n",
    "df['email'] = df.person_id.apply(extract_email)"
   ]
  },
  {
   "cell_type": "code",
   "execution_count": 116,
   "metadata": {},
   "outputs": [
    {
     "data": {
      "text/plain": [
       "190"
      ]
     },
     "execution_count": 116,
     "metadata": {},
     "output_type": "execute_result"
    }
   ],
   "source": [
    "# only include deals that have a domain\n",
    "df = df[df.email.notnull()]\n",
    "len(df)"
   ]
  },
  {
   "cell_type": "code",
   "execution_count": 177,
   "metadata": {},
   "outputs": [
    {
     "data": {
      "text/plain": [
       "101"
      ]
     },
     "execution_count": 177,
     "metadata": {},
     "output_type": "execute_result"
    }
   ],
   "source": [
    "# PR emails GG has generated\n",
    "pr_df = pd.read_csv(\"interested.csv\")\n",
    "pr_emails = pr_df.Email.tolist()\n",
    "len(pr_emails)"
   ]
  },
  {
   "cell_type": "code",
   "execution_count": 178,
   "metadata": {},
   "outputs": [
    {
     "data": {
      "text/plain": [
       "12"
      ]
     },
     "execution_count": 178,
     "metadata": {},
     "output_type": "execute_result"
    }
   ],
   "source": [
    "# pipeline deals we've sent them from prs\n",
    "pipeline_df = df[df.email.isin(pr_emails)]\n",
    "len(pipeline_df)"
   ]
  },
  {
   "cell_type": "code",
   "execution_count": 179,
   "metadata": {},
   "outputs": [
    {
     "data": {
      "text/plain": [
       "139800.0"
      ]
     },
     "execution_count": 179,
     "metadata": {},
     "output_type": "execute_result"
    }
   ],
   "source": [
    "# total pipeline deals we've generate from prs\n",
    "pipeline_df.expected_value.sum()"
   ]
  },
  {
   "cell_type": "code",
   "execution_count": 180,
   "metadata": {},
   "outputs": [
    {
     "data": {
      "text/plain": [
       "1"
      ]
     },
     "execution_count": 180,
     "metadata": {},
     "output_type": "execute_result"
    }
   ],
   "source": [
    "# prs closed from GG\n",
    "renvue_df = pipeline_df[pipeline_df.status == 'won']\n",
    "len(renvue_df)"
   ]
  },
  {
   "cell_type": "code",
   "execution_count": 181,
   "metadata": {},
   "outputs": [
    {
     "data": {
      "text/plain": [
       "50000"
      ]
     },
     "execution_count": 181,
     "metadata": {},
     "output_type": "execute_result"
    }
   ],
   "source": [
    "# total revenue they have closed from GG\n",
    "renvue_df.value.sum()"
   ]
  },
  {
   "cell_type": "code",
   "execution_count": 182,
   "metadata": {},
   "outputs": [
    {
     "data": {
      "text/plain": [
       "201    elocal.com\n",
       "Name: domain, dtype: object"
      ]
     },
     "execution_count": 182,
     "metadata": {},
     "output_type": "execute_result"
    }
   ],
   "source": [
    "# deal name\n",
    "renvue_df.domain"
   ]
  },
  {
   "cell_type": "code",
   "execution_count": 183,
   "metadata": {},
   "outputs": [],
   "source": [
    "# do the same analysis by name\n",
    "def extract_domain(Email):\n",
    "    return Email.split(\"@\")[1]\n",
    "\n",
    "pr_df['domain'] = pr_df.Email.apply(extract_domain)\n",
    "pr_domains = pr_df.domain.tolist()"
   ]
  },
  {
   "cell_type": "code",
   "execution_count": 184,
   "metadata": {},
   "outputs": [
    {
     "data": {
      "text/plain": [
       "21"
      ]
     },
     "execution_count": 184,
     "metadata": {},
     "output_type": "execute_result"
    }
   ],
   "source": [
    "# interested number of deals by domain\n",
    "domain_pipeline_df = df[df.domain.isin(pr_domains)]\n",
    "len(domain_pipeline_df)"
   ]
  },
  {
   "cell_type": "code",
   "execution_count": 164,
   "metadata": {},
   "outputs": [
    {
     "data": {
      "text/plain": [
       "222600.0"
      ]
     },
     "execution_count": 164,
     "metadata": {},
     "output_type": "execute_result"
    }
   ],
   "source": [
    "# expected for positive replies by domain\n",
    "domain_pipeline_df.expected_value.sum()"
   ]
  },
  {
   "cell_type": "code",
   "execution_count": 185,
   "metadata": {},
   "outputs": [
    {
     "data": {
      "text/plain": [
       "2"
      ]
     },
     "execution_count": 185,
     "metadata": {},
     "output_type": "execute_result"
    }
   ],
   "source": [
    "# how many deals have we won by domain\n",
    "domain_revenue_df = domain_pipeline_df[domain_pipeline_df.status == 'won']\n",
    "len(domain_revenue_df)"
   ]
  },
  {
   "cell_type": "code",
   "execution_count": 167,
   "metadata": {},
   "outputs": [
    {
     "data": {
      "text/plain": [
       "65000"
      ]
     },
     "execution_count": 167,
     "metadata": {},
     "output_type": "execute_result"
    }
   ],
   "source": [
    "domain_revenue_df.value.sum()"
   ]
  },
  {
   "cell_type": "code",
   "execution_count": 189,
   "metadata": {},
   "outputs": [
    {
     "data": {
      "text/plain": [
       "180     LizC@fool.com\n",
       "201    bob@elocal.com\n",
       "Name: email, dtype: object"
      ]
     },
     "execution_count": 189,
     "metadata": {},
     "output_type": "execute_result"
    }
   ],
   "source": [
    "# emails of those who indicated interested\n",
    "# lcherry@fool.com is her actual email that is spelt different in the abacus CRM than it is in Apollo\n",
    "domain_revenue_df.email"
   ]
  },
  {
   "cell_type": "code",
   "execution_count": null,
   "metadata": {},
   "outputs": [],
   "source": [
    "################ NEUTRAL #########################"
   ]
  },
  {
   "cell_type": "code",
   "execution_count": 192,
   "metadata": {},
   "outputs": [
    {
     "data": {
      "text/plain": [
       "152"
      ]
     },
     "execution_count": 192,
     "metadata": {},
     "output_type": "execute_result"
    }
   ],
   "source": [
    "# neutral leads GG has generated\n",
    "n_df = pd.read_csv('neutral.csv')\n",
    "len(n_df)"
   ]
  },
  {
   "cell_type": "code",
   "execution_count": 235,
   "metadata": {},
   "outputs": [
    {
     "data": {
      "text/plain": [
       "6"
      ]
     },
     "execution_count": 235,
     "metadata": {},
     "output_type": "execute_result"
    }
   ],
   "source": [
    "# pipeline deals we've sent them from neutrals\n",
    "pipeline_df = df[df.email.isin(n_df.Email.tolist())]\n",
    "len(pipeline_df)"
   ]
  },
  {
   "cell_type": "code",
   "execution_count": 236,
   "metadata": {},
   "outputs": [
    {
     "data": {
      "text/plain": [
       "54500.0"
      ]
     },
     "execution_count": 236,
     "metadata": {},
     "output_type": "execute_result"
    }
   ],
   "source": [
    "pipeline_df.expected_value.sum()"
   ]
  },
  {
   "cell_type": "code",
   "execution_count": 237,
   "metadata": {},
   "outputs": [
    {
     "data": {
      "text/plain": [
       "241            dwhomes.com\n",
       "401          tophatter.com\n",
       "402    learnersedgeinc.com\n",
       "447            bulgari.com\n",
       "449            suffolk.edu\n",
       "24        holidaytouch.com\n",
       "Name: domain, dtype: object"
      ]
     },
     "execution_count": 237,
     "metadata": {},
     "output_type": "execute_result"
    }
   ],
   "source": [
    "pipeline_df.domain"
   ]
  },
  {
   "cell_type": "code",
   "execution_count": 238,
   "metadata": {},
   "outputs": [],
   "source": [
    "def extract_domain(Email):\n",
    "    return Email.split(\"@\")[1]\n",
    "\n",
    "n_df['domain'] = n_df.Email.apply(extract_domain)\n",
    "n_domains = n_df.domain.tolist()"
   ]
  },
  {
   "cell_type": "code",
   "execution_count": 239,
   "metadata": {},
   "outputs": [
    {
     "data": {
      "text/plain": [
       "9"
      ]
     },
     "execution_count": 239,
     "metadata": {},
     "output_type": "execute_result"
    }
   ],
   "source": [
    "# neutral number of deals\n",
    "neutral_df = df[df.domain.isin(n_domains)]\n",
    "len(neutral_df)"
   ]
  },
  {
   "cell_type": "code",
   "execution_count": 199,
   "metadata": {},
   "outputs": [
    {
     "data": {
      "text/plain": [
       "77500.0"
      ]
     },
     "execution_count": 199,
     "metadata": {},
     "output_type": "execute_result"
    }
   ],
   "source": [
    "# total pipeline for neutral replies\n",
    "neutral_df.expected_value.sum()"
   ]
  },
  {
   "cell_type": "code",
   "execution_count": 200,
   "metadata": {},
   "outputs": [
    {
     "data": {
      "text/plain": [
       "241            dwhomes.com\n",
       "400           datavail.com\n",
       "401          tophatter.com\n",
       "402    learnersedgeinc.com\n",
       "405         hawkemedia.com\n",
       "447            bulgari.com\n",
       "449            suffolk.edu\n",
       "475             kbhome.com\n",
       "24        holidaytouch.com\n",
       "Name: domain, dtype: object"
      ]
     },
     "execution_count": 200,
     "metadata": {},
     "output_type": "execute_result"
    }
   ],
   "source": [
    "# titles of deals who indicate neutral\n",
    "# make sure to look up tophatter.com in Apollo - it's a referral\n",
    "neutral_df.domain"
   ]
  },
  {
   "cell_type": "code",
   "execution_count": 201,
   "metadata": {},
   "outputs": [
    {
     "data": {
      "text/plain": [
       "0"
      ]
     },
     "execution_count": 201,
     "metadata": {},
     "output_type": "execute_result"
    }
   ],
   "source": [
    "# total won deals from neutral\n",
    "won_neutral = neutral_df[neutral_df.status == 'won']\n",
    "len(won_neutral)"
   ]
  },
  {
   "cell_type": "code",
   "execution_count": null,
   "metadata": {},
   "outputs": [],
   "source": [
    "################ NOT INTERESTED #########################"
   ]
  },
  {
   "cell_type": "code",
   "execution_count": 205,
   "metadata": {},
   "outputs": [
    {
     "data": {
      "text/plain": [
       "228"
      ]
     },
     "execution_count": 205,
     "metadata": {},
     "output_type": "execute_result"
    }
   ],
   "source": [
    "# total not interested\n",
    "ni_df = pd.read_csv(\"not-interested.csv\")\n",
    "len(ni_df)"
   ]
  },
  {
   "cell_type": "code",
   "execution_count": 230,
   "metadata": {},
   "outputs": [
    {
     "data": {
      "text/plain": [
       "1"
      ]
     },
     "execution_count": 230,
     "metadata": {},
     "output_type": "execute_result"
    }
   ],
   "source": [
    "# pipeline deals we've sent them from not interested\n",
    "pipeline_df = df[df.email.isin(ni_df.Email.tolist())]\n",
    "len(pipeline_df)"
   ]
  },
  {
   "cell_type": "code",
   "execution_count": 231,
   "metadata": {},
   "outputs": [
    {
     "data": {
      "text/plain": [
       "22    $30,000\n",
       "Name: formatted_value, dtype: object"
      ]
     },
     "execution_count": 231,
     "metadata": {},
     "output_type": "execute_result"
    }
   ],
   "source": [
    "pipeline_df.formatted_value"
   ]
  },
  {
   "cell_type": "code",
   "execution_count": 234,
   "metadata": {},
   "outputs": [
    {
     "data": {
      "text/plain": [
       "22    scott.spence@fundsquire.com\n",
       "Name: email, dtype: object"
      ]
     },
     "execution_count": 234,
     "metadata": {},
     "output_type": "execute_result"
    }
   ],
   "source": [
    "pipeline_df.email"
   ]
  },
  {
   "cell_type": "code",
   "execution_count": 209,
   "metadata": {},
   "outputs": [],
   "source": [
    "def extract_domain(Email):\n",
    "    return Email.split(\"@\")[1]\n",
    "\n",
    "ni_df['domain'] = ni_df.Email.apply(extract_domain)\n",
    "ni_domains = ni_df.domain.tolist()"
   ]
  },
  {
   "cell_type": "code",
   "execution_count": 210,
   "metadata": {},
   "outputs": [
    {
     "data": {
      "text/plain": [
       "3"
      ]
     },
     "execution_count": 210,
     "metadata": {},
     "output_type": "execute_result"
    }
   ],
   "source": [
    "# neutral number of deals\n",
    "len(df[df.domain.isin(ni_domains)])"
   ]
  },
  {
   "cell_type": "code",
   "execution_count": 211,
   "metadata": {},
   "outputs": [
    {
     "data": {
      "text/plain": [
       "25000.0"
      ]
     },
     "execution_count": 211,
     "metadata": {},
     "output_type": "execute_result"
    }
   ],
   "source": [
    "# total pipeline for not interested replies\n",
    "df[df.domain.isin(ni_domains)].expected_value.sum()"
   ]
  },
  {
   "cell_type": "code",
   "execution_count": 213,
   "metadata": {},
   "outputs": [
    {
     "data": {
      "text/plain": [
       "475        kbhome.com\n",
       "22     fundsquire.com\n",
       "35           uncg.edu\n",
       "Name: domain, dtype: object"
      ]
     },
     "execution_count": 213,
     "metadata": {},
     "output_type": "execute_result"
    }
   ],
   "source": [
    "#  domains of deals who indicate not interested\n",
    "df[df.domain.isin(ni_domains)].domain"
   ]
  },
  {
   "cell_type": "code",
   "execution_count": 219,
   "metadata": {},
   "outputs": [
    {
     "data": {
      "text/plain": [
       "22    $30,000\n",
       "Name: formatted_value, dtype: object"
      ]
     },
     "execution_count": 219,
     "metadata": {},
     "output_type": "execute_result"
    }
   ],
   "source": [
    "df[df.domain == 'fundsquire.com'].formatted_value"
   ]
  },
  {
   "cell_type": "code",
   "execution_count": null,
   "metadata": {},
   "outputs": [],
   "source": [
    "################ LINKEDIN #########################"
   ]
  },
  {
   "cell_type": "code",
   "execution_count": 242,
   "metadata": {},
   "outputs": [
    {
     "data": {
      "text/plain": [
       "1129"
      ]
     },
     "execution_count": 242,
     "metadata": {},
     "output_type": "execute_result"
    }
   ],
   "source": [
    "# total linkedin\n",
    "li_df = pd.read_csv('linkedin.csv')\n",
    "len(li_df)"
   ]
  },
  {
   "cell_type": "code",
   "execution_count": 243,
   "metadata": {},
   "outputs": [
    {
     "data": {
      "text/plain": [
       "1"
      ]
     },
     "execution_count": 243,
     "metadata": {},
     "output_type": "execute_result"
    }
   ],
   "source": [
    "# pipeline deals we've sent them from neutrals\n",
    "pipeline_df = df[df.email.isin(li_df.Email.tolist())]\n",
    "len(pipeline_df)"
   ]
  },
  {
   "cell_type": "code",
   "execution_count": 244,
   "metadata": {},
   "outputs": [
    {
     "data": {
      "text/plain": [
       "17    $100,000\n",
       "Name: formatted_value, dtype: object"
      ]
     },
     "execution_count": 244,
     "metadata": {},
     "output_type": "execute_result"
    }
   ],
   "source": [
    "pipeline_df.formatted_value"
   ]
  },
  {
   "cell_type": "code",
   "execution_count": 245,
   "metadata": {},
   "outputs": [
    {
     "data": {
      "text/plain": [
       "17    harrisonl@ecobee.com\n",
       "Name: email, dtype: object"
      ]
     },
     "execution_count": 245,
     "metadata": {},
     "output_type": "execute_result"
    }
   ],
   "source": [
    "pipeline_df.email"
   ]
  },
  {
   "cell_type": "markdown",
   "metadata": {},
   "source": []
  },
  {
   "cell_type": "code",
   "execution_count": 246,
   "metadata": {},
   "outputs": [
    {
     "data": {
      "text/html": [
       "<div>\n",
       "<style scoped>\n",
       "    .dataframe tbody tr th:only-of-type {\n",
       "        vertical-align: middle;\n",
       "    }\n",
       "\n",
       "    .dataframe tbody tr th {\n",
       "        vertical-align: top;\n",
       "    }\n",
       "\n",
       "    .dataframe thead th {\n",
       "        text-align: right;\n",
       "    }\n",
       "</style>\n",
       "<table border=\"1\" class=\"dataframe\">\n",
       "  <thead>\n",
       "    <tr style=\"text-align: right;\">\n",
       "      <th></th>\n",
       "      <th>6653d62dbf9c0465a63c12044dac607759872963</th>\n",
       "      <th>6653d62dbf9c0465a63c12044dac607759872963_currency</th>\n",
       "      <th>active</th>\n",
       "      <th>activities_count</th>\n",
       "      <th>add_time</th>\n",
       "      <th>cc_email</th>\n",
       "      <th>close_time</th>\n",
       "      <th>creator_user_id</th>\n",
       "      <th>currency</th>\n",
       "      <th>deleted</th>\n",
       "      <th>...</th>\n",
       "      <th>user_id</th>\n",
       "      <th>value</th>\n",
       "      <th>visible_to</th>\n",
       "      <th>weighted_value</th>\n",
       "      <th>weighted_value_currency</th>\n",
       "      <th>won_time</th>\n",
       "      <th>deal_probability</th>\n",
       "      <th>expected_value</th>\n",
       "      <th>domain</th>\n",
       "      <th>email</th>\n",
       "    </tr>\n",
       "  </thead>\n",
       "  <tbody>\n",
       "    <tr>\n",
       "      <th>17</th>\n",
       "      <td>8000.0</td>\n",
       "      <td>USD</td>\n",
       "      <td>True</td>\n",
       "      <td>0</td>\n",
       "      <td>2018-09-26 17:18:30</td>\n",
       "      <td>abacusagency+deal2683@pipedrivemail.com</td>\n",
       "      <td>None</td>\n",
       "      <td>{'id': 2963791, 'name': 'Lance Muranaga', 'ema...</td>\n",
       "      <td>USD</td>\n",
       "      <td>False</td>\n",
       "      <td>...</td>\n",
       "      <td>{'id': 2963791, 'name': 'Lance Muranaga', 'ema...</td>\n",
       "      <td>100000</td>\n",
       "      <td>3</td>\n",
       "      <td>20000</td>\n",
       "      <td>USD</td>\n",
       "      <td>None</td>\n",
       "      <td>0.2</td>\n",
       "      <td>20000.0</td>\n",
       "      <td>ecobee.com</td>\n",
       "      <td>harrisonl@ecobee.com</td>\n",
       "    </tr>\n",
       "  </tbody>\n",
       "</table>\n",
       "<p>1 rows × 66 columns</p>\n",
       "</div>"
      ],
      "text/plain": [
       "    6653d62dbf9c0465a63c12044dac607759872963  \\\n",
       "17                                    8000.0   \n",
       "\n",
       "   6653d62dbf9c0465a63c12044dac607759872963_currency  active  \\\n",
       "17                                               USD    True   \n",
       "\n",
       "    activities_count             add_time  \\\n",
       "17                 0  2018-09-26 17:18:30   \n",
       "\n",
       "                                   cc_email close_time  \\\n",
       "17  abacusagency+deal2683@pipedrivemail.com       None   \n",
       "\n",
       "                                      creator_user_id currency  deleted  \\\n",
       "17  {'id': 2963791, 'name': 'Lance Muranaga', 'ema...      USD    False   \n",
       "\n",
       "            ...                                                     user_id  \\\n",
       "17          ...           {'id': 2963791, 'name': 'Lance Muranaga', 'ema...   \n",
       "\n",
       "     value visible_to weighted_value  weighted_value_currency won_time  \\\n",
       "17  100000          3          20000                      USD     None   \n",
       "\n",
       "    deal_probability expected_value      domain                 email  \n",
       "17               0.2        20000.0  ecobee.com  harrisonl@ecobee.com  \n",
       "\n",
       "[1 rows x 66 columns]"
      ]
     },
     "execution_count": 246,
     "metadata": {},
     "output_type": "execute_result"
    }
   ],
   "source": [
    "df[df.email == 'harrisonl@ecobee.com']"
   ]
  },
  {
   "cell_type": "code",
   "execution_count": null,
   "metadata": {},
   "outputs": [],
   "source": [
    "def extract_domain(Email):\n",
    "    try:\n",
    "        return Email.split(\"@\")[1]\n",
    "    except:\n",
    "        return ''\n",
    "\n",
    "event_df['domain'] = event_df.Email.apply(extract_domain)\n",
    "event_domains = event_df.domain.tolist()"
   ]
  },
  {
   "cell_type": "code",
   "execution_count": 224,
   "metadata": {},
   "outputs": [
    {
     "data": {
      "text/plain": [
       "2"
      ]
     },
     "execution_count": 224,
     "metadata": {},
     "output_type": "execute_result"
    }
   ],
   "source": [
    "# neutral number of event deals\n",
    "len(df[df.domain.isin(event_domains)])"
   ]
  },
  {
   "cell_type": "code",
   "execution_count": 225,
   "metadata": {},
   "outputs": [
    {
     "data": {
      "text/plain": [
       "27500.0"
      ]
     },
     "execution_count": 225,
     "metadata": {},
     "output_type": "execute_result"
    }
   ],
   "source": [
    "# total pipeline for not interested replies\n",
    "df[df.domain.isin(event_domains)].expected_value.sum()"
   ]
  },
  {
   "cell_type": "code",
   "execution_count": null,
   "metadata": {},
   "outputs": [],
   "source": [
    "# titles of deals who indicate not interested\n",
    "df[df.domain.isin(event_domains)].domain"
   ]
  },
  {
   "cell_type": "code",
   "execution_count": null,
   "metadata": {},
   "outputs": [],
   "source": [
    "# need to login as peter to finish this attribution analysis for events"
   ]
  },
  {
   "cell_type": "code",
   "execution_count": null,
   "metadata": {},
   "outputs": [],
   "source": [
    "################ TOTAL ROI #########################"
   ]
  },
  {
   "cell_type": "code",
   "execution_count": 221,
   "metadata": {},
   "outputs": [
    {
     "data": {
      "text/plain": [
       "33"
      ]
     },
     "execution_count": 221,
     "metadata": {},
     "output_type": "execute_result"
    }
   ],
   "source": [
    "# total GG deals\n",
    "len(df[df.domain.isin(n_domains)]) + len(df[df.domain.isin(ni_domains)]) + len(df[df.domain.isin(pr_domains)])"
   ]
  },
  {
   "cell_type": "code",
   "execution_count": 222,
   "metadata": {},
   "outputs": [],
   "source": [
    "gg_total = df[df.domain.isin(ni_domains)].expected_value.sum() + df[df.domain.isin(n_domains)].expected_value.sum() + df[df.domain.isin(pr_domains)].expected_value.sum()"
   ]
  },
  {
   "cell_type": "code",
   "execution_count": 223,
   "metadata": {},
   "outputs": [
    {
     "data": {
      "text/plain": [
       "16.37131821592414"
      ]
     },
     "execution_count": 223,
     "metadata": {},
     "output_type": "execute_result"
    }
   ],
   "source": [
    "gg_total / df.expected_value.sum() * 100"
   ]
  }
 ],
 "metadata": {
  "kernelspec": {
   "display_name": "Python 3",
   "language": "python",
   "name": "python3"
  },
  "language_info": {
   "codemirror_mode": {
    "name": "ipython",
    "version": 3
   },
   "file_extension": ".py",
   "mimetype": "text/x-python",
   "name": "python",
   "nbconvert_exporter": "python",
   "pygments_lexer": "ipython3",
   "version": "3.6.5"
  }
 },
 "nbformat": 4,
 "nbformat_minor": 2
}
